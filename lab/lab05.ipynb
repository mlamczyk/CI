{
 "cells": [
  {
   "cell_type": "markdown",
   "id": "28579f9f",
   "metadata": {},
   "source": [
    "## Zadanie 1"
   ]
  },
  {
   "cell_type": "code",
   "execution_count": 1,
   "id": "b3347af3",
   "metadata": {},
   "outputs": [],
   "source": [
    "import pandas as pd\n",
    "from sklearn.model_selection import train_test_split"
   ]
  },
  {
   "cell_type": "code",
   "execution_count": 2,
   "id": "471150e2",
   "metadata": {},
   "outputs": [
    {
     "name": "stdout",
     "output_type": "stream",
     "text": [
      "     sepal.length  sepal.width  petal.length  petal.width    species\n",
      "0             5.1          3.5           1.4          0.2     setosa\n",
      "1             4.9          3.0           1.4          0.2     setosa\n",
      "2             4.7          3.2           1.3          0.2     setosa\n",
      "3             4.6          3.1           1.5          0.2     setosa\n",
      "4             5.0          3.6           1.4          0.2     setosa\n",
      "..            ...          ...           ...          ...        ...\n",
      "145           6.7          3.0           5.2          2.3  virginica\n",
      "146           6.3          2.5           5.0          1.9  virginica\n",
      "147           6.5          3.0           5.2          2.0  virginica\n",
      "148           6.2          3.4           5.4          2.3  virginica\n",
      "149           5.9          3.0           5.1          1.8  virginica\n",
      "\n",
      "[150 rows x 5 columns]\n"
     ]
    }
   ],
   "source": [
    "df = pd.read_csv(\"data/iris.csv\")\n",
    "print(df)"
   ]
  },
  {
   "cell_type": "code",
   "execution_count": 3,
   "id": "ce4b9adc",
   "metadata": {},
   "outputs": [
    {
     "name": "stdout",
     "output_type": "stream",
     "text": [
      "[[5.1 3.5 1.4 0.2 'setosa']\n",
      " [4.9 3.0 1.4 0.2 'setosa']\n",
      " [4.7 3.2 1.3 0.2 'setosa']\n",
      " [4.6 3.1 1.5 0.2 'setosa']\n",
      " [5.0 3.6 1.4 0.2 'setosa']\n",
      " [5.4 3.9 1.7 0.4 'setosa']\n",
      " [4.6 3.4 1.4 0.3 'setosa']\n",
      " [5.0 3.4 1.5 0.2 'setosa']\n",
      " [4.4 2.9 1.4 0.2 'setosa']\n",
      " [4.9 3.1 1.5 0.1 'setosa']\n",
      " [5.4 3.7 1.5 0.2 'setosa']\n",
      " [4.8 3.4 1.6 0.2 'setosa']\n",
      " [4.8 3.0 1.4 0.1 'setosa']\n",
      " [4.3 3.0 1.1 0.1 'setosa']\n",
      " [5.8 4.0 1.2 0.2 'setosa']\n",
      " [5.7 4.4 1.5 0.4 'setosa']\n",
      " [5.4 3.9 1.3 0.4 'setosa']\n",
      " [5.1 3.5 1.4 0.3 'setosa']\n",
      " [5.7 3.8 1.7 0.3 'setosa']\n",
      " [5.1 3.8 1.5 0.3 'setosa']\n",
      " [5.4 3.4 1.7 0.2 'setosa']\n",
      " [5.1 3.7 1.5 0.4 'setosa']\n",
      " [4.6 3.6 1.0 0.2 'setosa']\n",
      " [5.1 3.3 1.7 0.5 'setosa']\n",
      " [4.8 3.4 1.9 0.2 'setosa']\n",
      " [5.0 3.0 1.6 0.2 'setosa']\n",
      " [5.0 3.4 1.6 0.4 'setosa']\n",
      " [5.2 3.5 1.5 0.2 'setosa']\n",
      " [5.2 3.4 1.4 0.2 'setosa']\n",
      " [4.7 3.2 1.6 0.2 'setosa']\n",
      " [4.8 3.1 1.6 0.2 'setosa']\n",
      " [5.4 3.4 1.5 0.4 'setosa']\n",
      " [5.2 4.1 1.5 0.1 'setosa']\n",
      " [5.5 4.2 1.4 0.2 'setosa']\n",
      " [4.9 3.1 1.5 0.1 'setosa']\n",
      " [5.0 3.2 1.2 0.2 'setosa']\n",
      " [5.5 3.5 1.3 0.2 'setosa']\n",
      " [4.9 3.1 1.5 0.1 'setosa']\n",
      " [4.4 3.0 1.3 0.2 'setosa']\n",
      " [5.1 3.4 1.5 0.2 'setosa']\n",
      " [5.0 3.5 1.3 0.3 'setosa']\n",
      " [4.5 2.3 1.3 0.3 'setosa']\n",
      " [4.4 3.2 1.3 0.2 'setosa']\n",
      " [5.0 3.5 1.6 0.6 'setosa']\n",
      " [5.1 3.8 1.9 0.4 'setosa']\n",
      " [4.8 3.0 1.4 0.3 'setosa']\n",
      " [5.1 3.8 1.6 0.2 'setosa']\n",
      " [4.6 3.2 1.4 0.2 'setosa']\n",
      " [5.3 3.7 1.5 0.2 'setosa']\n",
      " [5.0 3.3 1.4 0.2 'setosa']\n",
      " [7.0 3.2 4.7 1.4 'versicolor']\n",
      " [6.4 3.2 4.5 1.5 'versicolor']\n",
      " [6.9 3.1 4.9 1.5 'versicolor']\n",
      " [5.5 2.3 4.0 1.3 'versicolor']\n",
      " [6.5 2.8 4.6 1.5 'versicolor']\n",
      " [5.7 2.8 4.5 1.3 'versicolor']\n",
      " [6.3 3.3 4.7 1.6 'versicolor']\n",
      " [4.9 2.4 3.3 1.0 'versicolor']\n",
      " [6.6 2.9 4.6 1.3 'versicolor']\n",
      " [5.2 2.7 3.9 1.4 'versicolor']\n",
      " [5.0 2.0 3.5 1.0 'versicolor']\n",
      " [5.9 3.0 4.2 1.5 'versicolor']\n",
      " [6.0 2.2 4.0 1.0 'versicolor']\n",
      " [6.1 2.9 4.7 1.4 'versicolor']\n",
      " [5.6 2.9 3.6 1.3 'versicolor']\n",
      " [6.7 3.1 4.4 1.4 'versicolor']\n",
      " [5.6 3.0 4.5 1.5 'versicolor']\n",
      " [5.8 2.7 4.1 1.0 'versicolor']\n",
      " [6.2 2.2 4.5 1.5 'versicolor']\n",
      " [5.6 2.5 3.9 1.1 'versicolor']\n",
      " [5.9 3.2 4.8 1.8 'versicolor']\n",
      " [6.1 2.8 4.0 1.3 'versicolor']\n",
      " [6.3 2.5 4.9 1.5 'versicolor']\n",
      " [6.1 2.8 4.7 1.2 'versicolor']\n",
      " [6.4 2.9 4.3 1.3 'versicolor']\n",
      " [6.6 3.0 4.4 1.4 'versicolor']\n",
      " [6.8 2.8 4.8 1.4 'versicolor']\n",
      " [6.7 3.0 5.0 1.7 'versicolor']\n",
      " [6.0 2.9 4.5 1.5 'versicolor']\n",
      " [5.7 2.6 3.5 1.0 'versicolor']\n",
      " [5.5 2.4 3.8 1.1 'versicolor']\n",
      " [5.5 2.4 3.7 1.0 'versicolor']\n",
      " [5.8 2.7 3.9 1.2 'versicolor']\n",
      " [6.0 2.7 5.1 1.6 'versicolor']\n",
      " [5.4 3.0 4.5 1.5 'versicolor']\n",
      " [6.0 3.4 4.5 1.6 'versicolor']\n",
      " [6.7 3.1 4.7 1.5 'versicolor']\n",
      " [6.3 2.3 4.4 1.3 'versicolor']\n",
      " [5.6 3.0 4.1 1.3 'versicolor']\n",
      " [5.5 2.5 4.0 1.3 'versicolor']\n",
      " [5.5 2.6 4.4 1.2 'versicolor']\n",
      " [6.1 3.0 4.6 1.4 'versicolor']\n",
      " [5.8 2.6 4.0 1.2 'versicolor']\n",
      " [5.0 2.3 3.3 1.0 'versicolor']\n",
      " [5.6 2.7 4.2 1.3 'versicolor']\n",
      " [5.7 3.0 4.2 1.2 'versicolor']\n",
      " [5.7 2.9 4.2 1.3 'versicolor']\n",
      " [6.2 2.9 4.3 1.3 'versicolor']\n",
      " [5.1 2.5 3.0 1.1 'versicolor']\n",
      " [5.7 2.8 4.1 1.3 'versicolor']\n",
      " [6.3 3.3 6.0 2.5 'virginica']\n",
      " [5.8 2.7 5.1 1.9 'virginica']\n",
      " [7.1 3.0 5.9 2.1 'virginica']\n",
      " [6.3 2.9 5.6 1.8 'virginica']\n",
      " [6.5 3.0 5.8 2.2 'virginica']\n",
      " [7.6 3.0 6.6 2.1 'virginica']\n",
      " [4.9 2.5 4.5 1.7 'virginica']\n",
      " [7.3 2.9 6.3 1.8 'virginica']\n",
      " [6.7 2.5 5.8 1.8 'virginica']\n",
      " [7.2 3.6 6.1 2.5 'virginica']\n",
      " [6.5 3.2 5.1 2.0 'virginica']\n",
      " [6.4 2.7 5.3 1.9 'virginica']\n",
      " [6.8 3.0 5.5 2.1 'virginica']\n",
      " [5.7 2.5 5.0 2.0 'virginica']\n",
      " [5.8 2.8 5.1 2.4 'virginica']\n",
      " [6.4 3.2 5.3 2.3 'virginica']\n",
      " [6.5 3.0 5.5 1.8 'virginica']\n",
      " [7.7 3.8 6.7 2.2 'virginica']\n",
      " [7.7 2.6 6.9 2.3 'virginica']\n",
      " [6.0 2.2 5.0 1.5 'virginica']\n",
      " [6.9 3.2 5.7 2.3 'virginica']\n",
      " [5.6 2.8 4.9 2.0 'virginica']\n",
      " [7.7 2.8 6.7 2.0 'virginica']\n",
      " [6.3 2.7 4.9 1.8 'virginica']\n",
      " [6.7 3.3 5.7 2.1 'virginica']\n",
      " [7.2 3.2 6.0 1.8 'virginica']\n",
      " [6.2 2.8 4.8 1.8 'virginica']\n",
      " [6.1 3.0 4.9 1.8 'virginica']\n",
      " [6.4 2.8 5.6 2.1 'virginica']\n",
      " [7.2 3.0 5.8 1.6 'virginica']\n",
      " [7.4 2.8 6.1 1.9 'virginica']\n",
      " [7.9 3.8 6.4 2.0 'virginica']\n",
      " [6.4 2.8 5.6 2.2 'virginica']\n",
      " [6.3 2.8 5.1 1.5 'virginica']\n",
      " [6.1 2.6 5.6 1.4 'virginica']\n",
      " [7.7 3.0 6.1 2.3 'virginica']\n",
      " [6.3 3.4 5.6 2.4 'virginica']\n",
      " [6.4 3.1 5.5 1.8 'virginica']\n",
      " [6.0 3.0 4.8 1.8 'virginica']\n",
      " [6.9 3.1 5.4 2.1 'virginica']\n",
      " [6.7 3.1 5.6 2.4 'virginica']\n",
      " [6.9 3.1 5.1 2.3 'virginica']\n",
      " [5.8 2.7 5.1 1.9 'virginica']\n",
      " [6.8 3.2 5.9 2.3 'virginica']\n",
      " [6.7 3.3 5.7 2.5 'virginica']\n",
      " [6.7 3.0 5.2 2.3 'virginica']\n",
      " [6.3 2.5 5.0 1.9 'virginica']\n",
      " [6.5 3.0 5.2 2.0 'virginica']\n",
      " [6.2 3.4 5.4 2.3 'virginica']\n",
      " [5.9 3.0 5.1 1.8 'virginica']]\n"
     ]
    }
   ],
   "source": [
    "print(df.values)"
   ]
  },
  {
   "cell_type": "code",
   "execution_count": 4,
   "id": "9d2b0061",
   "metadata": {},
   "outputs": [
    {
     "name": "stdout",
     "output_type": "stream",
     "text": [
      "[5.1 4.9 4.7 4.6 5.0 5.4 4.6 5.0 4.4 4.9 5.4 4.8 4.8 4.3 5.8 5.7 5.4 5.1\n",
      " 5.7 5.1 5.4 5.1 4.6 5.1 4.8 5.0 5.0 5.2 5.2 4.7 4.8 5.4 5.2 5.5 4.9 5.0\n",
      " 5.5 4.9 4.4 5.1 5.0 4.5 4.4 5.0 5.1 4.8 5.1 4.6 5.3 5.0 7.0 6.4 6.9 5.5\n",
      " 6.5 5.7 6.3 4.9 6.6 5.2 5.0 5.9 6.0 6.1 5.6 6.7 5.6 5.8 6.2 5.6 5.9 6.1\n",
      " 6.3 6.1 6.4 6.6 6.8 6.7 6.0 5.7 5.5 5.5 5.8 6.0 5.4 6.0 6.7 6.3 5.6 5.5\n",
      " 5.5 6.1 5.8 5.0 5.6 5.7 5.7 6.2 5.1 5.7 6.3 5.8 7.1 6.3 6.5 7.6 4.9 7.3\n",
      " 6.7 7.2 6.5 6.4 6.8 5.7 5.8 6.4 6.5 7.7 7.7 6.0 6.9 5.6 7.7 6.3 6.7 7.2\n",
      " 6.2 6.1 6.4 7.2 7.4 7.9 6.4 6.3 6.1 7.7 6.3 6.4 6.0 6.9 6.7 6.9 5.8 6.8\n",
      " 6.7 6.7 6.3 6.5 6.2 5.9]\n",
      "[[5.4 3.9 1.7 0.4 'setosa']\n",
      " [4.6 3.4 1.4 0.3 'setosa']\n",
      " [5.0 3.4 1.5 0.2 'setosa']\n",
      " [4.4 2.9 1.4 0.2 'setosa']\n",
      " [4.9 3.1 1.5 0.1 'setosa']\n",
      " [5.4 3.7 1.5 0.2 'setosa']]\n",
      "setosa\n"
     ]
    }
   ],
   "source": [
    "#wszystkie wiersze, kolumna nr 0\n",
    "print(df.values[:, 0])\n",
    "\n",
    "#wiersze od 5 do 10, wszystkie kolumny\n",
    "print(df.values[5:11, :])\n",
    "\n",
    "#dane w komórce [1,4]\n",
    "print(df.values[1, 4])"
   ]
  },
  {
   "cell_type": "code",
   "execution_count": 5,
   "id": "13ece5c6",
   "metadata": {},
   "outputs": [],
   "source": [
    "#podzial na zbior testowy (30%) i treningowy (70%), ziarno losowosci = 13\n",
    "(train_set, test_set) = train_test_split(df.values, train_size=0.7, random_state=13)"
   ]
  },
  {
   "cell_type": "code",
   "execution_count": 6,
   "id": "66bd6bcc",
   "metadata": {},
   "outputs": [
    {
     "name": "stdout",
     "output_type": "stream",
     "text": [
      "[[5.7 2.8 4.5 1.3 'versicolor']\n",
      " [5.6 2.9 3.6 1.3 'versicolor']\n",
      " [5.1 3.7 1.5 0.4 'setosa']\n",
      " [5.8 2.7 5.1 1.9 'virginica']\n",
      " [6.8 3.0 5.5 2.1 'virginica']\n",
      " [5.5 4.2 1.4 0.2 'setosa']\n",
      " [7.7 3.0 6.1 2.3 'virginica']\n",
      " [6.3 2.7 4.9 1.8 'virginica']\n",
      " [5.1 3.8 1.6 0.2 'setosa']\n",
      " [5.5 2.6 4.4 1.2 'versicolor']\n",
      " [6.0 3.0 4.8 1.8 'virginica']\n",
      " [6.3 2.8 5.1 1.5 'virginica']\n",
      " [6.3 2.3 4.4 1.3 'versicolor']\n",
      " [5.1 3.8 1.9 0.4 'setosa']\n",
      " [5.8 2.8 5.1 2.4 'virginica']\n",
      " [4.8 3.1 1.6 0.2 'setosa']\n",
      " [6.1 3.0 4.9 1.8 'virginica']\n",
      " [6.5 3.0 5.8 2.2 'virginica']\n",
      " [6.1 3.0 4.6 1.4 'versicolor']\n",
      " [4.4 2.9 1.4 0.2 'setosa']\n",
      " [6.0 2.9 4.5 1.5 'versicolor']\n",
      " [5.7 4.4 1.5 0.4 'setosa']\n",
      " [5.1 3.5 1.4 0.3 'setosa']\n",
      " [7.4 2.8 6.1 1.9 'virginica']\n",
      " [5.4 3.0 4.5 1.5 'versicolor']\n",
      " [6.7 3.3 5.7 2.5 'virginica']\n",
      " [5.8 4.0 1.2 0.2 'setosa']\n",
      " [7.7 2.6 6.9 2.3 'virginica']\n",
      " [6.1 2.9 4.7 1.4 'versicolor']\n",
      " [6.4 2.8 5.6 2.2 'virginica']\n",
      " [6.4 3.1 5.5 1.8 'virginica']\n",
      " [5.2 4.1 1.5 0.1 'setosa']\n",
      " [5.4 3.4 1.5 0.4 'setosa']\n",
      " [6.9 3.1 5.1 2.3 'virginica']\n",
      " [6.3 2.5 5.0 1.9 'virginica']\n",
      " [6.2 2.9 4.3 1.3 'versicolor']\n",
      " [5.1 3.3 1.7 0.5 'setosa']\n",
      " [5.6 3.0 4.5 1.5 'versicolor']\n",
      " [6.2 2.2 4.5 1.5 'versicolor']\n",
      " [4.8 3.0 1.4 0.1 'setosa']\n",
      " [5.2 3.5 1.5 0.2 'setosa']\n",
      " [6.1 2.6 5.6 1.4 'virginica']\n",
      " [5.7 2.9 4.2 1.3 'versicolor']\n",
      " [7.2 3.2 6.0 1.8 'virginica']\n",
      " [6.5 3.2 5.1 2.0 'virginica']]\n",
      "45\n"
     ]
    }
   ],
   "source": [
    "print(test_set)\n",
    "print(test_set.shape[0])"
   ]
  },
  {
   "cell_type": "code",
   "execution_count": 7,
   "id": "66f65f49",
   "metadata": {},
   "outputs": [],
   "source": [
    "train_inputs = train_set[:, 0:4]\n",
    "train_classes = train_set[:, 4]\n",
    "test_inputs = test_set[:, 0:4]\n",
    "test_classes = test_set[:, 4]"
   ]
  },
  {
   "cell_type": "markdown",
   "id": "200e9e54",
   "metadata": {},
   "source": [
    "## Zadanie 2"
   ]
  },
  {
   "cell_type": "code",
   "execution_count": 8,
   "id": "9f44c013",
   "metadata": {},
   "outputs": [],
   "source": [
    "df = pd.read_csv(\"data/iris.csv\")\n",
    "(train_set, test_set) = train_test_split(df.values, train_size=0.7, random_state=274260)"
   ]
  },
  {
   "cell_type": "code",
   "execution_count": 9,
   "id": "2654599d",
   "metadata": {},
   "outputs": [],
   "source": [
    "def classify_iris(sl, sw, pl, pw):\n",
    "    if sl > 4:\n",
    "        return(\"setosa\")\n",
    "    elif pl <= 5:\n",
    "        return(\"virginica\")\n",
    "    else:\n",
    "        return(\"versicolor\")"
   ]
  },
  {
   "cell_type": "code",
   "execution_count": 10,
   "id": "bfca9669",
   "metadata": {},
   "outputs": [
    {
     "name": "stdout",
     "output_type": "stream",
     "text": [
      "15\n",
      "33.33333333333333 %\n"
     ]
    }
   ],
   "source": [
    "good_predictions = 0\n",
    "len = test_set.shape[0]\n",
    "\n",
    "for i in range(len):\n",
    "    if classify_iris(test_set[i, 0], test_set[i, 1], test_set[i, 2], test_set[i, 3]) == test_set[i, 4]:\n",
    "        good_predictions = good_predictions + 1\n",
    "\n",
    "print(good_predictions)\n",
    "print(good_predictions/len*100, \"%\")"
   ]
  },
  {
   "cell_type": "code",
   "execution_count": 11,
   "id": "9b2333a2",
   "metadata": {},
   "outputs": [
    {
     "name": "stdout",
     "output_type": "stream",
     "text": [
      "[[6.8 3.0 5.5 2.1 'virginica']\n",
      " [6.0 2.7 5.1 1.6 'versicolor']\n",
      " [5.7 2.8 4.5 1.3 'versicolor']\n",
      " [6.0 2.2 4.0 1.0 'versicolor']\n",
      " [4.7 3.2 1.3 0.2 'setosa']\n",
      " [6.4 2.8 5.6 2.2 'virginica']\n",
      " [4.8 3.4 1.9 0.2 'setosa']\n",
      " [5.4 3.4 1.5 0.4 'setosa']\n",
      " [5.0 3.4 1.6 0.4 'setosa']\n",
      " [5.6 2.8 4.9 2.0 'virginica']\n",
      " [6.4 2.9 4.3 1.3 'versicolor']\n",
      " [6.2 2.8 4.8 1.8 'virginica']\n",
      " [5.6 3.0 4.1 1.3 'versicolor']\n",
      " [6.9 3.1 5.4 2.1 'virginica']\n",
      " [6.4 3.2 5.3 2.3 'virginica']\n",
      " [5.4 3.9 1.3 0.4 'setosa']\n",
      " [5.0 2.0 3.5 1.0 'versicolor']\n",
      " [6.5 3.0 5.8 2.2 'virginica']\n",
      " [6.1 2.8 4.7 1.2 'versicolor']\n",
      " [6.9 3.1 5.1 2.3 'virginica']\n",
      " [6.3 3.4 5.6 2.4 'virginica']\n",
      " [5.7 2.9 4.2 1.3 'versicolor']\n",
      " [5.4 3.7 1.5 0.2 'setosa']\n",
      " [5.1 3.4 1.5 0.2 'setosa']\n",
      " [6.3 2.5 5.0 1.9 'virginica']\n",
      " [4.8 3.4 1.6 0.2 'setosa']\n",
      " [4.6 3.4 1.4 0.3 'setosa']\n",
      " [7.2 3.6 6.1 2.5 'virginica']\n",
      " [4.8 3.1 1.6 0.2 'setosa']\n",
      " [4.9 2.4 3.3 1.0 'versicolor']\n",
      " [6.3 2.5 4.9 1.5 'versicolor']\n",
      " [6.7 3.1 4.7 1.5 'versicolor']\n",
      " [5.0 3.3 1.4 0.2 'setosa']\n",
      " [7.6 3.0 6.6 2.1 'virginica']\n",
      " [7.2 3.2 6.0 1.8 'virginica']\n",
      " [6.1 2.9 4.7 1.4 'versicolor']\n",
      " [5.5 2.6 4.4 1.2 'versicolor']\n",
      " [5.6 3.0 4.5 1.5 'versicolor']\n",
      " [4.4 3.0 1.3 0.2 'setosa']\n",
      " [4.7 3.2 1.6 0.2 'setosa']\n",
      " [6.8 3.2 5.9 2.3 'virginica']\n",
      " [5.2 3.4 1.4 0.2 'setosa']\n",
      " [6.5 3.0 5.5 1.8 'virginica']\n",
      " [6.0 3.0 4.8 1.8 'virginica']\n",
      " [5.1 3.8 1.9 0.4 'setosa']\n",
      " [6.9 3.2 5.7 2.3 'virginica']\n",
      " [5.5 4.2 1.4 0.2 'setosa']\n",
      " [7.7 3.0 6.1 2.3 'virginica']\n",
      " [6.4 3.1 5.5 1.8 'virginica']\n",
      " [5.5 2.4 3.7 1.0 'versicolor']\n",
      " [6.7 3.0 5.0 1.7 'versicolor']\n",
      " [5.2 4.1 1.5 0.1 'setosa']\n",
      " [5.6 2.5 3.9 1.1 'versicolor']\n",
      " [5.4 3.0 4.5 1.5 'versicolor']\n",
      " [6.7 2.5 5.8 1.8 'virginica']\n",
      " [5.2 3.5 1.5 0.2 'setosa']\n",
      " [6.3 2.7 4.9 1.8 'virginica']\n",
      " [5.8 2.7 5.1 1.9 'virginica']\n",
      " [4.9 3.1 1.5 0.1 'setosa']\n",
      " [5.4 3.9 1.7 0.4 'setosa']\n",
      " [7.7 2.8 6.7 2.0 'virginica']\n",
      " [6.1 3.0 4.6 1.4 'versicolor']\n",
      " [5.4 3.4 1.7 0.2 'setosa']\n",
      " [5.9 3.0 4.2 1.5 'versicolor']\n",
      " [6.6 2.9 4.6 1.3 'versicolor']\n",
      " [6.5 3.2 5.1 2.0 'virginica']\n",
      " [6.4 2.7 5.3 1.9 'virginica']\n",
      " [5.1 3.8 1.5 0.3 'setosa']\n",
      " [7.2 3.0 5.8 1.6 'virginica']\n",
      " [4.6 3.6 1.0 0.2 'setosa']\n",
      " [5.0 3.5 1.6 0.6 'setosa']\n",
      " [4.9 2.5 4.5 1.7 'virginica']\n",
      " [6.7 3.0 5.2 2.3 'virginica']\n",
      " [6.5 3.0 5.2 2.0 'virginica']\n",
      " [5.1 3.7 1.5 0.4 'setosa']\n",
      " [5.2 2.7 3.9 1.4 'versicolor']\n",
      " [5.1 3.8 1.6 0.2 'setosa']\n",
      " [6.1 3.0 4.9 1.8 'virginica']\n",
      " [4.9 3.0 1.4 0.2 'setosa']\n",
      " [4.9 3.1 1.5 0.1 'setosa']\n",
      " [6.4 2.8 5.6 2.1 'virginica']\n",
      " [5.0 3.4 1.5 0.2 'setosa']\n",
      " [5.6 2.9 3.6 1.3 'versicolor']\n",
      " [6.3 2.8 5.1 1.5 'virginica']\n",
      " [5.7 2.8 4.1 1.3 'versicolor']\n",
      " [5.7 3.8 1.7 0.3 'setosa']\n",
      " [7.9 3.8 6.4 2.0 'virginica']\n",
      " [5.6 2.7 4.2 1.3 'versicolor']\n",
      " [4.9 3.1 1.5 0.1 'setosa']\n",
      " [6.0 2.9 4.5 1.5 'versicolor']\n",
      " [5.7 3.0 4.2 1.2 'versicolor']\n",
      " [5.8 2.8 5.1 2.4 'virginica']\n",
      " [6.2 2.2 4.5 1.5 'versicolor']\n",
      " [5.5 2.5 4.0 1.3 'versicolor']\n",
      " [4.6 3.1 1.5 0.2 'setosa']\n",
      " [6.7 3.3 5.7 2.1 'virginica']\n",
      " [5.8 2.6 4.0 1.2 'versicolor']\n",
      " [5.1 3.5 1.4 0.3 'setosa']\n",
      " [5.9 3.2 4.8 1.8 'versicolor']\n",
      " [5.8 4.0 1.2 0.2 'setosa']\n",
      " [7.1 3.0 5.9 2.1 'virginica']\n",
      " [6.4 3.2 4.5 1.5 'versicolor']\n",
      " [5.8 2.7 4.1 1.0 'versicolor']\n",
      " [5.9 3.0 5.1 1.8 'virginica']\n",
      " [4.6 3.2 1.4 0.2 'setosa']]\n"
     ]
    }
   ],
   "source": [
    "print(train_set)"
   ]
  },
  {
   "cell_type": "code",
   "execution_count": 12,
   "id": "b304e5a9",
   "metadata": {},
   "outputs": [],
   "source": [
    "def classify_iris(sl, sw, pl, pw):\n",
    "    if pw < 0.8 and pl < 2:\n",
    "        return(\"setosa\")\n",
    "    elif pw > 1.7 and pl > 4.8:\n",
    "        return(\"virginica\")\n",
    "    else:\n",
    "        return(\"versicolor\")"
   ]
  },
  {
   "cell_type": "code",
   "execution_count": 13,
   "id": "1d0c488c",
   "metadata": {},
   "outputs": [
    {
     "name": "stdout",
     "output_type": "stream",
     "text": [
      "43\n",
      "95.55555555555556 %\n"
     ]
    }
   ],
   "source": [
    "good_predictions = 0\n",
    "len = test_set.shape[0]\n",
    "\n",
    "for i in range(len):\n",
    "    if classify_iris(test_set[i, 0], test_set[i, 1], test_set[i, 2], test_set[i, 3]) == test_set[i, 4]:\n",
    "        good_predictions = good_predictions + 1\n",
    "\n",
    "print(good_predictions)\n",
    "print(good_predictions/len*100, \"%\")"
   ]
  },
  {
   "cell_type": "markdown",
   "id": "71fc07ee",
   "metadata": {},
   "source": [
    "## Zadanie 3"
   ]
  },
  {
   "cell_type": "markdown",
   "id": "b1b2d8f7",
   "metadata": {},
   "source": [
    "### a)"
   ]
  },
  {
   "cell_type": "code",
   "execution_count": 14,
   "id": "3d7d4520",
   "metadata": {},
   "outputs": [],
   "source": [
    "from sklearn import tree\n",
    "\n",
    "df = pd.read_csv(\"data/iris.csv\")\n",
    "(train_set, test_set) = train_test_split(df.values, train_size=0.7, random_state=274260)"
   ]
  },
  {
   "cell_type": "code",
   "execution_count": 15,
   "id": "06d30584",
   "metadata": {},
   "outputs": [],
   "source": [
    "train_inputs = train_set[:, 0:4]\n",
    "train_classes = train_set[:, 4]\n",
    "test_inputs = test_set[:, 0:4]\n",
    "test_classes = test_set[:, 4]"
   ]
  },
  {
   "cell_type": "markdown",
   "id": "14dc9a51",
   "metadata": {},
   "source": [
    "### b) i c)"
   ]
  },
  {
   "cell_type": "code",
   "execution_count": 16,
   "id": "07fd0bc5",
   "metadata": {},
   "outputs": [],
   "source": [
    "DD = tree.DecisionTreeClassifier()\n",
    "DD = DD.fit(train_inputs, train_classes)"
   ]
  },
  {
   "cell_type": "markdown",
   "id": "f0af4f00",
   "metadata": {},
   "source": [
    "### d)"
   ]
  },
  {
   "cell_type": "code",
   "execution_count": 17,
   "id": "a5c29f77",
   "metadata": {},
   "outputs": [
    {
     "data": {
      "text/plain": [
       "[Text(0.5, 0.9166666666666666, 'x[3] <= 0.8\\ngini = 0.666\\nsamples = 105\\nvalue = [35, 33, 37]'),\n",
       " Text(0.4230769230769231, 0.75, 'gini = 0.0\\nsamples = 35\\nvalue = [35, 0, 0]'),\n",
       " Text(0.5769230769230769, 0.75, 'x[3] <= 1.75\\ngini = 0.498\\nsamples = 70\\nvalue = [0, 33, 37]'),\n",
       " Text(0.3076923076923077, 0.5833333333333334, 'x[2] <= 5.05\\ngini = 0.157\\nsamples = 35\\nvalue = [0, 32, 3]'),\n",
       " Text(0.15384615384615385, 0.4166666666666667, 'x[3] <= 1.6\\ngini = 0.061\\nsamples = 32\\nvalue = [0, 31, 1]'),\n",
       " Text(0.07692307692307693, 0.25, 'gini = 0.0\\nsamples = 30\\nvalue = [0, 30, 0]'),\n",
       " Text(0.23076923076923078, 0.25, 'x[1] <= 2.75\\ngini = 0.5\\nsamples = 2\\nvalue = [0, 1, 1]'),\n",
       " Text(0.15384615384615385, 0.08333333333333333, 'gini = 0.0\\nsamples = 1\\nvalue = [0, 0, 1]'),\n",
       " Text(0.3076923076923077, 0.08333333333333333, 'gini = 0.0\\nsamples = 1\\nvalue = [0, 1, 0]'),\n",
       " Text(0.46153846153846156, 0.4166666666666667, 'x[1] <= 2.75\\ngini = 0.444\\nsamples = 3\\nvalue = [0, 1, 2]'),\n",
       " Text(0.38461538461538464, 0.25, 'gini = 0.0\\nsamples = 1\\nvalue = [0, 1, 0]'),\n",
       " Text(0.5384615384615384, 0.25, 'gini = 0.0\\nsamples = 2\\nvalue = [0, 0, 2]'),\n",
       " Text(0.8461538461538461, 0.5833333333333334, 'x[2] <= 4.85\\ngini = 0.056\\nsamples = 35\\nvalue = [0, 1, 34]'),\n",
       " Text(0.7692307692307693, 0.4166666666666667, 'x[1] <= 3.1\\ngini = 0.444\\nsamples = 3\\nvalue = [0, 1, 2]'),\n",
       " Text(0.6923076923076923, 0.25, 'gini = 0.0\\nsamples = 2\\nvalue = [0, 0, 2]'),\n",
       " Text(0.8461538461538461, 0.25, 'gini = 0.0\\nsamples = 1\\nvalue = [0, 1, 0]'),\n",
       " Text(0.9230769230769231, 0.4166666666666667, 'gini = 0.0\\nsamples = 32\\nvalue = [0, 0, 32]')]"
      ]
     },
     "execution_count": 17,
     "metadata": {},
     "output_type": "execute_result"
    },
    {
     "data": {
      "image/png": "[encoded data removed]",
      "text/plain": [
       "<Figure size 640x480 with 1 Axes>"
      ]
     },
     "metadata": {},
     "output_type": "display_data"
    }
   ],
   "source": [
    "tree.plot_tree(DD)"
   ]
  },
  {
   "cell_type": "markdown",
   "id": "0d8e73df",
   "metadata": {},
   "source": [
    "### e)"
   ]
  },
  {
   "cell_type": "code",
   "execution_count": 18,
   "id": "34ed35af",
   "metadata": {},
   "outputs": [
    {
     "data": {
      "text/plain": [
       "array(['virginica', 'versicolor', 'setosa', 'versicolor', 'versicolor',\n",
       "       'setosa', 'virginica', 'setosa', 'versicolor', 'versicolor',\n",
       "       'virginica', 'versicolor', 'setosa', 'setosa', 'versicolor',\n",
       "       'versicolor', 'setosa', 'versicolor', 'versicolor', 'setosa',\n",
       "       'versicolor', 'virginica', 'setosa', 'versicolor', 'versicolor',\n",
       "       'virginica', 'versicolor', 'setosa', 'versicolor', 'virginica',\n",
       "       'versicolor', 'virginica', 'setosa', 'setosa', 'versicolor',\n",
       "       'setosa', 'versicolor', 'setosa', 'setosa', 'virginica',\n",
       "       'virginica', 'versicolor', 'virginica', 'setosa', 'virginica'],\n",
       "      dtype=object)"
      ]
     },
     "execution_count": 18,
     "metadata": {},
     "output_type": "execute_result"
    }
   ],
   "source": [
    "DD.predict(test_inputs)"
   ]
  },
  {
   "cell_type": "code",
   "execution_count": 19,
   "id": "7796393d",
   "metadata": {},
   "outputs": [
    {
     "data": {
      "text/plain": [
       "0.9555555555555556"
      ]
     },
     "execution_count": 19,
     "metadata": {},
     "output_type": "execute_result"
    }
   ],
   "source": [
    "DD.score(test_inputs, test_classes)"
   ]
  },
  {
   "cell_type": "markdown",
   "id": "2ca094aa",
   "metadata": {},
   "source": [
    "### f)"
   ]
  },
  {
   "cell_type": "code",
   "execution_count": 20,
   "id": "7a7113fa",
   "metadata": {},
   "outputs": [
    {
     "data": {
      "image/png": "[encoded data removed]",
      "text/plain": [
       "<Figure size 640x480 with 2 Axes>"
      ]
     },
     "metadata": {},
     "output_type": "display_data"
    }
   ],
   "source": [
    "import matplotlib.pyplot as plt\n",
    "import numpy\n",
    "from sklearn import metrics\n",
    "\n",
    "predicted = DD.predict(test_inputs)\n",
    "\n",
    "confusion_matrix = metrics.confusion_matrix(test_classes, predicted, labels = DD.classes_)\n",
    "\n",
    "cm_display = metrics.ConfusionMatrixDisplay(confusion_matrix = confusion_matrix, display_labels = DD.classes_)\n",
    "\n",
    "cm_display.plot()\n",
    "plt.show()"
   ]
  },
  {
   "cell_type": "markdown",
   "id": "e5ededd0",
   "metadata": {},
   "source": [
    "## Zadanie 4"
   ]
  },
  {
   "cell_type": "markdown",
   "id": "9a05288e",
   "metadata": {},
   "source": [
    "### a)"
   ]
  },
  {
   "cell_type": "code",
   "execution_count": 21,
   "id": "fe4bb573",
   "metadata": {},
   "outputs": [],
   "source": [
    "from sklearn.neighbors import KNeighborsClassifier\n",
    "from sklearn.naive_bayes import GaussianNB\n",
    "\n",
    "df = pd.read_csv(\"data/iris.csv\")\n",
    "(train_set, test_set) = train_test_split(df.values, train_size=0.7, random_state=274260)\n",
    "\n",
    "train_inputs = train_set[:, 0:4]\n",
    "train_classes = train_set[:, 4]\n",
    "test_inputs = test_set[:, 0:4]\n",
    "test_classes = test_set[:, 4]"
   ]
  },
  {
   "cell_type": "markdown",
   "id": "2d9138b2",
   "metadata": {},
   "source": [
    "### b)"
   ]
  },
  {
   "cell_type": "code",
   "execution_count": 22,
   "id": "60c157b8",
   "metadata": {},
   "outputs": [
    {
     "name": "stdout",
     "output_type": "stream",
     "text": [
      "0.9777777777777777\n"
     ]
    },
    {
     "data": {
      "text/plain": [
       "array([[15,  0,  0],\n",
       "       [ 0, 17,  0],\n",
       "       [ 0,  1, 12]], dtype=int64)"
      ]
     },
     "execution_count": 22,
     "metadata": {},
     "output_type": "execute_result"
    }
   ],
   "source": [
    "NN3 = KNeighborsClassifier(n_neighbors=3)\n",
    "NN3.fit(train_inputs, train_classes)\n",
    "print(NN3.score(test_inputs, test_classes))\n",
    "metrics.confusion_matrix(test_classes, NN3.predict(test_inputs))"
   ]
  },
  {
   "cell_type": "code",
   "execution_count": 23,
   "id": "e22f0084",
   "metadata": {},
   "outputs": [
    {
     "name": "stdout",
     "output_type": "stream",
     "text": [
      "0.9777777777777777\n"
     ]
    },
    {
     "data": {
      "text/plain": [
       "array([[15,  0,  0],\n",
       "       [ 0, 17,  0],\n",
       "       [ 0,  1, 12]], dtype=int64)"
      ]
     },
     "execution_count": 23,
     "metadata": {},
     "output_type": "execute_result"
    }
   ],
   "source": [
    "NN5 = KNeighborsClassifier(n_neighbors=5)\n",
    "NN5.fit(train_inputs, train_classes)\n",
    "print(NN5.score(test_inputs, test_classes))\n",
    "metrics.confusion_matrix(test_classes, NN5.predict(test_inputs))"
   ]
  },
  {
   "cell_type": "code",
   "execution_count": 24,
   "id": "5b91ed6c",
   "metadata": {},
   "outputs": [
    {
     "name": "stdout",
     "output_type": "stream",
     "text": [
      "0.9777777777777777\n"
     ]
    },
    {
     "data": {
      "text/plain": [
       "array([[15,  0,  0],\n",
       "       [ 0, 16,  1],\n",
       "       [ 0,  0, 13]], dtype=int64)"
      ]
     },
     "execution_count": 24,
     "metadata": {},
     "output_type": "execute_result"
    }
   ],
   "source": [
    "NN11 = KNeighborsClassifier(n_neighbors=11)\n",
    "NN11.fit(train_inputs, train_classes)\n",
    "print(NN11.score(test_inputs, test_classes))\n",
    "metrics.confusion_matrix(test_classes, NN11.predict(test_inputs))"
   ]
  },
  {
   "cell_type": "code",
   "execution_count": 25,
   "id": "253bff0b",
   "metadata": {},
   "outputs": [
    {
     "name": "stdout",
     "output_type": "stream",
     "text": [
      "0.9333333333333333\n"
     ]
    },
    {
     "data": {
      "text/plain": [
       "array([[15,  0,  0],\n",
       "       [ 0, 16,  1],\n",
       "       [ 0,  2, 11]], dtype=int64)"
      ]
     },
     "execution_count": 25,
     "metadata": {},
     "output_type": "execute_result"
    }
   ],
   "source": [
    "NB = GaussianNB()\n",
    "NB.fit(train_inputs, train_classes)\n",
    "print(NB.score(test_inputs, test_classes))\n",
    "metrics.confusion_matrix(test_classes, NB.predict(test_inputs))"
   ]
  },
  {
   "cell_type": "markdown",
   "id": "4aade0d9",
   "metadata": {},
   "source": [
    "### c)"
   ]
  },
  {
   "cell_type": "code",
   "execution_count": 26,
   "id": "1ccb693f",
   "metadata": {},
   "outputs": [
    {
     "name": "stdout",
     "output_type": "stream",
     "text": [
      "0.9555555555555556\n",
      "0.9777777777777777\n",
      "0.9777777777777777\n",
      "0.9777777777777777\n",
      "0.9333333333333333\n"
     ]
    }
   ],
   "source": [
    "from sklearn.metrics import accuracy_score, f1_score\n",
    "\n",
    "print(accuracy_score(test_classes, DD.predict(test_inputs)))\n",
    "print(accuracy_score(test_classes, NN3.predict(test_inputs)))\n",
    "print(accuracy_score(test_classes, NN5.predict(test_inputs)))\n",
    "print(accuracy_score(test_classes, NN11.predict(test_inputs)))\n",
    "print(accuracy_score(test_classes, NB.predict(test_inputs)))"
   ]
  },
  {
   "cell_type": "code",
   "execution_count": 27,
   "id": "585d6ea3",
   "metadata": {},
   "outputs": [
    {
     "name": "stdout",
     "output_type": "stream",
     "text": [
      "0.9549382716049383\n",
      "0.9776507936507935\n",
      "0.9776507936507935\n",
      "0.9778526000748223\n",
      "0.932952380952381\n"
     ]
    }
   ],
   "source": [
    "print(f1_score(test_classes, DD.predict(test_inputs), average=\"weighted\"))\n",
    "print(f1_score(test_classes, NN3.predict(test_inputs), average=\"weighted\"))\n",
    "print(f1_score(test_classes, NN5.predict(test_inputs), average=\"weighted\"))\n",
    "print(f1_score(test_classes, NN11.predict(test_inputs), average=\"weighted\"))\n",
    "print(f1_score(test_classes, NB.predict(test_inputs), average=\"weighted\"))\n",
    "# klasyfikator 11-najbliższch sąsiadów jest najlepszy"
   ]
  },
  {
   "cell_type": "code",
   "execution_count": null,
   "id": "be20234a",
   "metadata": {},
   "outputs": [],
   "source": []
  }
 ],
 "metadata": {
  "kernelspec": {
   "display_name": "Python 3 (ipykernel)",
   "language": "python",
   "name": "python3"
  },
  "language_info": {
   "codemirror_mode": {
    "name": "ipython",
    "version": 3
   },
   "file_extension": ".py",
   "mimetype": "text/x-python",
   "name": "python",
   "nbconvert_exporter": "python",
   "pygments_lexer": "ipython3",
   "version": "3.10.0"
  }
 },
 "nbformat": 4,
 "nbformat_minor": 5
}
