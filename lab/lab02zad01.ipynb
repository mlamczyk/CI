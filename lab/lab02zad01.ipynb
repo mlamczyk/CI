{
 "cells": [
  {
   "cell_type": "markdown",
   "id": "d3d8c528",
   "metadata": {},
   "source": [
    "## Zadanie 1"
   ]
  },
  {
   "cell_type": "code",
   "execution_count": 1,
   "id": "e30d56a9",
   "metadata": {},
   "outputs": [],
   "source": [
    "import pygad\n",
    "import numpy\n",
    "import pandas as pd"
   ]
  },
  {
   "cell_type": "code",
   "execution_count": 2,
   "id": "a933163d",
   "metadata": {},
   "outputs": [
    {
     "data": {
      "text/html": [
       "<div>\n",
       "<style scoped>\n",
       "    .dataframe tbody tr th:only-of-type {\n",
       "        vertical-align: middle;\n",
       "    }\n",
       "\n",
       "    .dataframe tbody tr th {\n",
       "        vertical-align: top;\n",
       "    }\n",
       "\n",
       "    .dataframe thead th {\n",
       "        text-align: right;\n",
       "    }\n",
       "</style>\n",
       "<table border=\"1\" class=\"dataframe\">\n",
       "  <thead>\n",
       "    <tr style=\"text-align: right;\">\n",
       "      <th></th>\n",
       "      <th>przedmiot</th>\n",
       "      <th>wartosc</th>\n",
       "      <th>waga</th>\n",
       "    </tr>\n",
       "  </thead>\n",
       "  <tbody>\n",
       "    <tr>\n",
       "      <th>0</th>\n",
       "      <td>zegar</td>\n",
       "      <td>100</td>\n",
       "      <td>7</td>\n",
       "    </tr>\n",
       "    <tr>\n",
       "      <th>1</th>\n",
       "      <td>obraz-pejzaż</td>\n",
       "      <td>300</td>\n",
       "      <td>7</td>\n",
       "    </tr>\n",
       "    <tr>\n",
       "      <th>2</th>\n",
       "      <td>obraz-portret</td>\n",
       "      <td>200</td>\n",
       "      <td>6</td>\n",
       "    </tr>\n",
       "    <tr>\n",
       "      <th>3</th>\n",
       "      <td>radio</td>\n",
       "      <td>40</td>\n",
       "      <td>2</td>\n",
       "    </tr>\n",
       "    <tr>\n",
       "      <th>4</th>\n",
       "      <td>laptop</td>\n",
       "      <td>500</td>\n",
       "      <td>5</td>\n",
       "    </tr>\n",
       "    <tr>\n",
       "      <th>5</th>\n",
       "      <td>lampka nocna</td>\n",
       "      <td>70</td>\n",
       "      <td>6</td>\n",
       "    </tr>\n",
       "    <tr>\n",
       "      <th>6</th>\n",
       "      <td>srebrne sztućce</td>\n",
       "      <td>100</td>\n",
       "      <td>1</td>\n",
       "    </tr>\n",
       "    <tr>\n",
       "      <th>7</th>\n",
       "      <td>porcelana</td>\n",
       "      <td>250</td>\n",
       "      <td>3</td>\n",
       "    </tr>\n",
       "    <tr>\n",
       "      <th>8</th>\n",
       "      <td>figura z brązu</td>\n",
       "      <td>300</td>\n",
       "      <td>10</td>\n",
       "    </tr>\n",
       "    <tr>\n",
       "      <th>9</th>\n",
       "      <td>skórzana torebka</td>\n",
       "      <td>280</td>\n",
       "      <td>3</td>\n",
       "    </tr>\n",
       "    <tr>\n",
       "      <th>10</th>\n",
       "      <td>odkurzacz</td>\n",
       "      <td>300</td>\n",
       "      <td>15</td>\n",
       "    </tr>\n",
       "  </tbody>\n",
       "</table>\n",
       "</div>"
      ],
      "text/plain": [
       "           przedmiot  wartosc  waga\n",
       "0              zegar      100     7\n",
       "1       obraz-pejzaż      300     7\n",
       "2      obraz-portret      200     6\n",
       "3              radio       40     2\n",
       "4             laptop      500     5\n",
       "5       lampka nocna       70     6\n",
       "6    srebrne sztućce      100     1\n",
       "7          porcelana      250     3\n",
       "8     figura z brązu      300    10\n",
       "9   skórzana torebka      280     3\n",
       "10         odkurzacz      300    15"
      ]
     },
     "execution_count": 2,
     "metadata": {},
     "output_type": "execute_result"
    }
   ],
   "source": [
    "# jaki zestaw przedmiotów ma największą wartość?\n",
    "przedmiot = ['zegar', 'obraz-pejzaż', 'obraz-portret', 'radio',\n",
    "            'laptop', 'lampka nocna', 'srebrne sztućce', 'porcelana',\n",
    "            'figura z brązu', 'skórzana torebka', 'odkurzacz']\n",
    "wartosc = [100, 300, 200, 40, 500, 70, 100, 250, 300, 280, 300]\n",
    "waga = [7, 7, 6, 2, 5, 6, 1, 3, 10, 3, 15]\n",
    "tabela = pd.DataFrame({'przedmiot': przedmiot, 'wartosc': wartosc, 'waga': waga})\n",
    "tabela"
   ]
  },
  {
   "cell_type": "code",
   "execution_count": 3,
   "id": "6dcdd1a5",
   "metadata": {},
   "outputs": [],
   "source": [
    "#limit wagi\n",
    "n = 25"
   ]
  },
  {
   "cell_type": "code",
   "execution_count": 4,
   "id": "3e044530",
   "metadata": {},
   "outputs": [],
   "source": [
    "#definiujemy parametry plecaka\n",
    "#przedmioty to liczby: 0 lub 1\n",
    "gene_space = [0, 1]\n",
    "\n",
    "#definiujemy funkcję fitness\n",
    "def fitness_func(solution, solution_idx):\n",
    "    sum_wart = numpy.sum(solution * wartosc)\n",
    "    sum_wag = numpy.sum(solution * waga)\n",
    "    if sum_wag > n:\n",
    "        return 0\n",
    "    else:\n",
    "        return sum_wart\n",
    "\n",
    "fitness_function = fitness_func\n",
    "\n",
    "#ile plecaków w populacji\n",
    "#ile przedmiotów ma plecak\n",
    "sol_per_pop = 10\n",
    "num_genes = len(wartosc)\n",
    "\n",
    "#ile wylaniamy rodzicow do \"rozmanazania\" (okolo 50% populacji)\n",
    "#ile pokolen\n",
    "#ilu rodzicow zachowac (kilka procent)\n",
    "num_parents_mating = 5\n",
    "num_generations = 30\n",
    "keep_parents = 2\n",
    "\n",
    "#jaki typ selekcji rodzicow?\n",
    "#sss = steady, rws=roulette, rank = rankingowa, tournament = turniejowa\n",
    "parent_selection_type = \"sss\"\n",
    "\n",
    "#w il =u punktach robic krzyzowanie?\n",
    "crossover_type = \"single_point\"\n",
    "\n",
    "#mutacja ma dzialac na ilu procent gprzedmiotów?\n",
    "#trzeba pamietac ile przedmiotów ma plecak\n",
    "mutation_type = \"random\"\n",
    "mutation_percent_genes = 10 # czyli 1 przedmiot się zmieni"
   ]
  },
  {
   "cell_type": "code",
   "execution_count": 5,
   "id": "04650b22",
   "metadata": {},
   "outputs": [],
   "source": [
    "#inicjacja algorytmu z powyzszymi parametrami wpisanymi w atrybuty\n",
    "ga_instance = pygad.GA(gene_space=gene_space,\n",
    "                       num_generations=num_generations,\n",
    "                       num_parents_mating=num_parents_mating,\n",
    "                       fitness_func=fitness_function,\n",
    "                       sol_per_pop=sol_per_pop,\n",
    "                       num_genes=num_genes,\n",
    "                       parent_selection_type=parent_selection_type,\n",
    "                       keep_parents=keep_parents,\n",
    "                       crossover_type=crossover_type,\n",
    "                       mutation_type=mutation_type,\n",
    "                       mutation_percent_genes=mutation_percent_genes)\n",
    "\n",
    "#uruchomienie algorytmu\n",
    "ga_instance.run()"
   ]
  },
  {
   "cell_type": "code",
   "execution_count": 6,
   "id": "7b7cac36",
   "metadata": {},
   "outputs": [
    {
     "name": "stdout",
     "output_type": "stream",
     "text": [
      "Parameters of the best solution : [0. 1. 1. 0. 1. 0. 1. 1. 0. 1. 0.]\n",
      "Fitness value of the best solution = 1630.0\n"
     ]
    }
   ],
   "source": [
    "#podsumowanie: najlepsze znalezione rozwiazanie (plecak + ocena)\n",
    "solution, solution_fitness, solution_idx = ga_instance.best_solution()\n",
    "print(\"Parameters of the best solution : {solution}\".format(solution=solution))\n",
    "print(\"Fitness value of the best solution = {solution_fitness}\".format(solution_fitness=solution_fitness))"
   ]
  },
  {
   "cell_type": "code",
   "execution_count": 7,
   "id": "e70a3b14",
   "metadata": {},
   "outputs": [
    {
     "name": "stdout",
     "output_type": "stream",
     "text": [
      "Predicted output based on the best solution : 1630.0\n"
     ]
    }
   ],
   "source": [
    "#tutaj dodatkowo wyswietlamy sume wskazana przez jedynki\n",
    "prediction = numpy.sum(wartosc*solution) # ma wyjść 1630\n",
    "print(\"Predicted output based on the best solution : {prediction}\".format(prediction=prediction))"
   ]
  },
  {
   "cell_type": "code",
   "execution_count": 8,
   "id": "d37c0ca9",
   "metadata": {},
   "outputs": [
    {
     "data": {
      "image/png": "[encoded data removed]",
      "text/plain": [
       "<Figure size 432x288 with 1 Axes>"
      ]
     },
     "metadata": {
      "needs_background": "light"
     },
     "output_type": "display_data"
    },
    {
     "data": {
      "image/png": "[encoded data removed]",
      "text/plain": [
       "<Figure size 432x288 with 1 Axes>"
      ]
     },
     "execution_count": 8,
     "metadata": {},
     "output_type": "execute_result"
    }
   ],
   "source": [
    "#wyswietlenie wykresu: jak zmieniala sie ocena na przestrzeni pokolen\n",
    "ga_instance.plot_fitness()"
   ]
  },
  {
   "cell_type": "code",
   "execution_count": null,
   "id": "953e4888",
   "metadata": {},
   "outputs": [],
   "source": []
  }
 ],
 "metadata": {
  "kernelspec": {
   "display_name": "Python 3",
   "language": "python",
   "name": "python3"
  },
  "language_info": {
   "codemirror_mode": {
    "name": "ipython",
    "version": 3
   },
   "file_extension": ".py",
   "mimetype": "text/x-python",
   "name": "python",
   "nbconvert_exporter": "python",
   "pygments_lexer": "ipython3",
   "version": "3.8.15"
  }
 },
 "nbformat": 4,
 "nbformat_minor": 5
}
