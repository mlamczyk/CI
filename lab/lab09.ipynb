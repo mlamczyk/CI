{
 "cells": [
  {
   "cell_type": "markdown",
   "id": "465105bc",
   "metadata": {},
   "source": [
    "## Zadanie 1\n",
    "### a)"
   ]
  },
  {
   "cell_type": "code",
   "execution_count": 1,
   "id": "16df6724",
   "metadata": {},
   "outputs": [],
   "source": [
    "#pip install gym\n",
    "#pip install swig\n",
    "#pip install pygame\n",
    "#pip install gym[box2d]\n",
    "#pip install box2d\n",
    "#pip install box2d-kengz"
   ]
  },
  {
   "cell_type": "markdown",
   "id": "1acc1502",
   "metadata": {},
   "source": [
    "### Frozen Lake"
   ]
  },
  {
   "cell_type": "code",
   "execution_count": 2,
   "id": "2ef23aab",
   "metadata": {},
   "outputs": [],
   "source": [
    "#import sys\n",
    "#sys.path.append('c:/users/magda/appdata/local/programs/python/python310/lib/site-packages')\n",
    "import gym\n",
    "import numpy as np\n",
    "    \n",
    "env = gym.make('FrozenLake8x8-v1', render_mode=\"human\")\n",
    "\n",
    "\n",
    "observation, info = env.reset(seed=42)\n",
    "\n",
    "for _ in range(60):\n",
    "    action = env.action_space.sample()\n",
    "    observation, reward, terminated, truncated, info = env.step(action)\n",
    "    if terminated or truncated:\n",
    "        observation, info = env.reset()\n",
    "env.close()"
   ]
  },
  {
   "cell_type": "markdown",
   "id": "f5e6c5f0",
   "metadata": {},
   "source": [
    "### Lunar Lander"
   ]
  },
  {
   "cell_type": "code",
   "execution_count": 3,
   "id": "61ca3992",
   "metadata": {},
   "outputs": [],
   "source": [
    "import gym\n",
    "#import box2d pygame\n",
    "\n",
    "env = gym.make(\"LunarLander-v2\", render_mode=\"human\")\n",
    "env.reset(seed=2)\n",
    "\n",
    "for _ in range(300):\n",
    "    action = 1 #odpal lewy silnik\n",
    "    env.step(action)\n",
    "env.close()"
   ]
  },
  {
   "cell_type": "code",
   "execution_count": 4,
   "id": "6260e922",
   "metadata": {},
   "outputs": [],
   "source": [
    "import gym\n",
    "\n",
    "env = gym.make(\"LunarLander-v2\", render_mode=\"human\")\n",
    "env.reset(seed=8)\n",
    "\n",
    "for _ in range(300):\n",
    "    action = env.action_space.sample()\n",
    "    env.step(action)\n",
    "env.close()"
   ]
  },
  {
   "cell_type": "code",
   "execution_count": 5,
   "id": "0e393675",
   "metadata": {},
   "outputs": [],
   "source": [
    "import gym\n",
    "\n",
    "env = gym.make(\"LunarLander-v2\", render_mode=\"human\")\n",
    "observation, info = env.reset(seed=42)\n",
    "\n",
    "for _ in range(300):\n",
    "    action = env.action_space.sample()\n",
    "    observation, reward, terminated, truncated, info = env.step(action)\n",
    "    if terminated or truncated:\n",
    "        observation, info = env.reset()\n",
    "env.close()"
   ]
  },
  {
   "cell_type": "code",
   "execution_count": 6,
   "id": "75ad93b3",
   "metadata": {},
   "outputs": [
    {
     "name": "stdout",
     "output_type": "stream",
     "text": [
      "Stan początkowy:  [ 0.00229702  1.4181306   0.2326471   0.3204666  -0.00265488 -0.05269805\n",
      "  0.          0.        ]\n",
      "Stan końcowy:  [ 0.261532   -0.03876041  0.84060687 -0.5758353   0.11132836 -3.9404683\n",
      "  0.          1.        ]\n",
      "Reset, nowy stan początkowy:  [ 1.1374473e-03  1.4082936e+00  1.1519176e-01 -1.1672725e-01\n",
      " -1.3111660e-03 -2.6092619e-02  0.0000000e+00  0.0000000e+00]\n",
      "Stan końcowy:  [ 0.1709176  -0.04074772  0.5049867  -0.8084277  -0.05767335  6.002271\n",
      "  1.          1.        ]\n",
      "Reset, nowy stan początkowy:  [ 1.2456893e-03  1.4151543e+00  1.2616315e-01  1.8819429e-01\n",
      " -1.4366889e-03 -2.8577814e-02  0.0000000e+00  0.0000000e+00]\n"
     ]
    }
   ],
   "source": [
    "import gym\n",
    "\n",
    "env = gym.make(\"LunarLander-v2\", render_mode=\"human\")\n",
    "observation, info = env.reset(seed=42)\n",
    "\n",
    "print(\"Stan początkowy: \", observation)\n",
    "\n",
    "for _ in range(300):\n",
    "    action = env.action_space.sample()\n",
    "    observation, reward, terminated, truncated, info = env.step(action)\n",
    "    if terminated or truncated:\n",
    "        print(\"Stan końcowy: \", observation)\n",
    "        observation, info = env.reset()\n",
    "        print(\"Reset, nowy stan początkowy: \", observation)\n",
    "env.close()"
   ]
  },
  {
   "cell_type": "markdown",
   "id": "86172c9d",
   "metadata": {},
   "source": [
    "### b)"
   ]
  },
  {
   "cell_type": "markdown",
   "id": "7cccadaa",
   "metadata": {},
   "source": [
    "### Classic Control"
   ]
  },
  {
   "cell_type": "code",
   "execution_count": 7,
   "id": "f92ed6f4",
   "metadata": {},
   "outputs": [],
   "source": [
    "#pip install gym[classic_control]"
   ]
  },
  {
   "cell_type": "code",
   "execution_count": 8,
   "id": "2d46cf29",
   "metadata": {},
   "outputs": [],
   "source": [
    "import gym\n",
    "    \n",
    "env = gym.make(\"MountainCar-v0\", render_mode=\"human\")\n",
    "observation, info = env.reset(seed=42)\n",
    "\n",
    "for i in range(200):\n",
    "    action = env.action_space.sample()\n",
    "    observation, reward, terminated, truncated, info = env.step(action)\n",
    "    if terminated or truncated:\n",
    "        observation, info = env.reset()\n",
    "env.close()"
   ]
  },
  {
   "cell_type": "markdown",
   "id": "b2d0ef16",
   "metadata": {},
   "source": [
    "### Box2D"
   ]
  },
  {
   "cell_type": "code",
   "execution_count": 9,
   "id": "19a9ec83",
   "metadata": {},
   "outputs": [],
   "source": [
    "import gym\n",
    "\n",
    "env = gym.make(\"CarRacing-v2\", render_mode=\"human\", domain_randomize=True)\n",
    "observation, info = env.reset(seed=42)\n",
    "\n",
    "for i in range(300):\n",
    "    action = env.action_space.sample()\n",
    "    observation, reward, terminated, truncated, info = env.step(action)\n",
    "    if terminated or truncated:\n",
    "        observation, info = env.reset()\n",
    "env.close()"
   ]
  },
  {
   "cell_type": "markdown",
   "id": "30fdffcd",
   "metadata": {},
   "source": [
    "### ToyText"
   ]
  },
  {
   "cell_type": "code",
   "execution_count": 10,
   "id": "f6455e03",
   "metadata": {},
   "outputs": [],
   "source": [
    "import gym\n",
    "\n",
    "env = gym.make('Blackjack-v1', render_mode=\"human\")\n",
    "observation, info = env.reset(seed=42)\n",
    "\n",
    "for i in range(20):\n",
    "    action = env.action_space.sample()\n",
    "    observation, reward, terminated, truncated, info = env.step(action)\n",
    "    if terminated or truncated:\n",
    "        observation, info = env.reset()\n",
    "env.close()"
   ]
  },
  {
   "cell_type": "markdown",
   "id": "f3964bbd",
   "metadata": {},
   "source": [
    "### MuJoCo"
   ]
  },
  {
   "cell_type": "code",
   "execution_count": 11,
   "id": "0495165b",
   "metadata": {},
   "outputs": [],
   "source": [
    "#pip install gym[mujoco]"
   ]
  },
  {
   "cell_type": "code",
   "execution_count": 12,
   "id": "9fde6e90",
   "metadata": {},
   "outputs": [],
   "source": [
    "import gym\n",
    "\n",
    "env = gym.make(\"HalfCheetah-v4\", render_mode=\"human\")\n",
    "observation, info = env.reset(seed=42)\n",
    "\n",
    "for i in range(300):\n",
    "    action = env.action_space.sample()\n",
    "    observation, reward, terminated, truncated, info = env.step(action)\n",
    "    if terminated or truncated:\n",
    "        observation, info = env.reset()\n",
    "env.close()"
   ]
  },
  {
   "cell_type": "markdown",
   "id": "d497ec26",
   "metadata": {},
   "source": [
    "### Atari"
   ]
  },
  {
   "cell_type": "code",
   "execution_count": 13,
   "id": "bef45eb6",
   "metadata": {},
   "outputs": [],
   "source": [
    "#pip install ALE\n",
    "#pip install gym[accept-rom-license]\n",
    "#pip install gym[atari]"
   ]
  },
  {
   "cell_type": "code",
   "execution_count": 14,
   "id": "50019040",
   "metadata": {},
   "outputs": [],
   "source": [
    "import gym\n",
    "import pygame\n",
    "\n",
    "env = gym.make(\"ALE/SpaceInvaders-v5\", render_mode=\"human\")\n",
    "observation, info = env.reset(seed=42)\n",
    "\n",
    "for i in range(200):\n",
    "    action = env.action_space.sample()\n",
    "    observation, reward, terminated, truncated, info = env.step(action)\n",
    "    if terminated or truncated:\n",
    "        observation, info = env.reset()\n",
    "pygame.quit()\n",
    "env.close()"
   ]
  },
  {
   "cell_type": "markdown",
   "id": "992c0bbb",
   "metadata": {},
   "source": [
    "### c)\n",
    "Przeglądając dokumentację, zidentyfikuj po jednej grze z następujących\n",
    "kategorii:\n",
    "- Stan gry i zestaw akcji są dyskretne (tzn. jest to skończony zestaw).\n",
    "- Stan gry jest ciągły (nieskończony, liczby zmiennoprzecinkowe), ale zestaw akcji jest dyskretny.\n",
    "- Stan gry i zestaw akcji jest ciągły.\n",
    "\n",
    "Uruchom te gry i dopisz w komentarzach w kodzie, który z typów to jest."
   ]
  },
  {
   "cell_type": "code",
   "execution_count": 15,
   "id": "74368982",
   "metadata": {},
   "outputs": [],
   "source": [
    "# stan gry i zestaw akcji są dyskretne: Frozen Lake, Cliff Walking, Taxi\n",
    "import gym\n",
    "import pygame\n",
    "\n",
    "env = gym.make(\"Taxi-v3\", render_mode=\"human\")\n",
    "observation, info = env.reset()\n",
    "\n",
    "for _ in range(50):\n",
    "    action = env.action_space.sample()\n",
    "    observation, reward, terminated, truncated, info = env.step(action)\n",
    "    if terminated or truncated:\n",
    "        observation = env.reset()\n",
    "pygame.quit()\n",
    "env.close()"
   ]
  },
  {
   "cell_type": "code",
   "execution_count": 16,
   "id": "b999c489",
   "metadata": {},
   "outputs": [],
   "source": [
    "# stan gry jest ciągły, zestaw akcji jest dyskretny: Cart Pole\n",
    "import gym\n",
    "\n",
    "env = gym.make(\"CartPole-v1\", render_mode=\"human\")\n",
    "observation, info = env.reset()\n",
    "\n",
    "for _ in range(200):\n",
    "    action = env.action_space.sample()\n",
    "    observation, reward, terminated, truncated, info = env.step(action)\n",
    "    if terminated or truncated:\n",
    "        observation = env.reset()\n",
    "env.close()"
   ]
  },
  {
   "cell_type": "code",
   "execution_count": 17,
   "id": "815f5a1e",
   "metadata": {},
   "outputs": [],
   "source": [
    "# stan gry i zestaw akcji są ciągłe: Pendulum\n",
    "import gym\n",
    "\n",
    "env = gym.make(\"Pendulum-v1\", render_mode=\"human\")\n",
    "observation, info = env.reset()\n",
    "\n",
    "for _ in range(200):\n",
    "    action = env.action_space.sample()\n",
    "    observation, reward, terminated, truncated, info = env.step(action)\n",
    "    if terminated or truncated:\n",
    "        observation = env.reset()\n",
    "env.close()"
   ]
  },
  {
   "cell_type": "markdown",
   "id": "fb4e97bf",
   "metadata": {},
   "source": [
    "### d)\n",
    "Dla dwóch wybranych gier, podmień losowe próbki akcji, na zestaw akcji stworzony przez Ciebie, który będzie dobrze działał („dobrze” tzn. osiągniemy sukces, albo przynajmniej zbliżymy się do osiągnięcia sukcesu)."
   ]
  },
  {
   "cell_type": "code",
   "execution_count": 33,
   "id": "470fe755",
   "metadata": {},
   "outputs": [],
   "source": [
    "import gym\n",
    "import pygame\n",
    "import numpy as np\n",
    "# https://towardsdatascience.com/reinforcement-learning-cliff-walking-implementation-e40ce98418d4\n",
    "    \n",
    "env = gym.make(\"CliffWalking-v0\", render_mode=\"human\")\n",
    "observation, info = env.reset(seed=42)\n",
    "\n",
    "moves = [0, 1, 1, 1, 1, 1, 1, 1, 1, 1, 1, 1, 1, 2]\n",
    "for _ in moves:\n",
    "    action = _\n",
    "    observation, reward, terminated, truncated, info = env.step(action)\n",
    "    if terminated or truncated:\n",
    "        observation, info = env.reset()\n",
    "pygame.quit()\n",
    "env.close()"
   ]
  },
  {
   "cell_type": "code",
   "execution_count": 34,
   "id": "4fb7b1ca",
   "metadata": {},
   "outputs": [],
   "source": [
    "import gym\n",
    "import pygame\n",
    "import numpy as np\n",
    "\n",
    "env = gym.make(\"MountainCar-v0\", render_mode=\"human\")\n",
    "observation, info = env.reset(seed=42)\n",
    "\n",
    "moves = [2 for i in range(20)]\n",
    "for i in range(10):\n",
    "    moves.append(1)\n",
    "for i in range(25):\n",
    "    moves.append(0)\n",
    "for i in range(55):\n",
    "    moves.append(2)\n",
    "for _ in moves:\n",
    "    action = _\n",
    "    observation, reward, terminated, truncated, info = env.step(action)\n",
    "    if terminated or truncated:\n",
    "        observation, info = env.reset()\n",
    "pygame.quit()\n",
    "env.close()"
   ]
  },
  {
   "cell_type": "markdown",
   "id": "556e9331",
   "metadata": {},
   "source": [
    "## Zadanie 2\n",
    "Rozwiąż FrozenLake8x8 (z wyłączonymi poślizgami) oraz LunarLander za pomocą algorytmu genetycznego. Możesz wykorzystać paczkę pygad. W kodzie dodaj komentarze opisujące, jaką postać mają chromosomy i jak działa funkcja fitness. Pokaż jak działa najlepsze rozwiązanie znalezione dla obu gier."
   ]
  },
  {
   "cell_type": "markdown",
   "id": "4353d26a",
   "metadata": {},
   "source": [
    "### Frozen Lake"
   ]
  },
  {
   "cell_type": "code",
   "execution_count": 35,
   "id": "8d4eb082",
   "metadata": {},
   "outputs": [
    {
     "name": "stdout",
     "output_type": "stream",
     "text": [
      "Number of generations passed is : 7\n",
      "Parameters of the best solution : [1. 2. 2. 2. 2. 2. 1. 2. 1. 2. 3. 1. 1. 1. 1. 2. 1. 0. 1. 2.]\n",
      "Fitness value of the best solution = 0\n"
     ]
    },
    {
     "data": {
      "image/png": "[encoded data removed]",
      "text/plain": [
       "<Figure size 640x480 with 1 Axes>"
      ]
     },
     "metadata": {},
     "output_type": "display_data"
    },
    {
     "data": {
      "image/png": "[encoded data removed]",
      "text/plain": [
       "<Figure size 640x480 with 1 Axes>"
      ]
     },
     "execution_count": 35,
     "metadata": {},
     "output_type": "execute_result"
    }
   ],
   "source": [
    "import gym\n",
    "import pygad\n",
    "import pygame\n",
    "import numpy as np\n",
    "\n",
    "# definiujemy parametry rozwiązania\n",
    "# 0, 1, 2, 3 - kroki\n",
    "gene_space = [0, 1, 2, 3]\n",
    "\n",
    "# definiujemy funkcję fitness\n",
    "def fitness_func(solution, solution_idx):\n",
    "    # współrzędne początkowe\n",
    "    x = 0\n",
    "    y = 0\n",
    "    observation, info = env.reset(seed=42)\n",
    "    for _ in solution:\n",
    "        action = _\n",
    "        observation, reward, terminated, truncated, info = env.step(action)\n",
    "        # współrzędne po ruchu\n",
    "        x = observation%8\n",
    "        y = observation//8\n",
    "        if terminated or truncated: # jeśli dojdzie do celu lub wpadnie do przerębli to przerywamy\n",
    "            observation, info = env.reset(seed=42)\n",
    "            break\n",
    "    env.close()\n",
    "    pygame.quit()\n",
    "    # fitness to odległość od celu, cel ma współrzędne (7, 7)\n",
    "    return -(abs(x-7)+abs(y-7))\n",
    "\n",
    "fitness_function = fitness_func\n",
    "\n",
    "# ile chromosomów w populacji\n",
    "sol_per_pop = 100\n",
    "# ile genów ma chromosom\n",
    "num_genes = 20 # tyle mamy kroków, solution ma 20 genów\n",
    "\n",
    "# ile wylaniamy rodziców do \"rozmnażania\" (okolo 50% populacji)\n",
    "num_parents_mating = 50\n",
    "# ile pokoleń\n",
    "num_generations = 25\n",
    "# ilu rodziców zachować (kilka procent)\n",
    "keep_parents = 2\n",
    "\n",
    "# jaki typ selekcji rodzicow?\n",
    "#sss = steady, rws=roulette, rank = rankingowa, tournament = turniejowa\n",
    "parent_selection_type = \"rank\"\n",
    "\n",
    "# w ilu punktach robic krzyzowanie?\n",
    "#single_point, two_points, uniform, scattered\n",
    "crossover_type = \"single_point\"\n",
    "\n",
    "# mutacja ma dzialac na ilu procent genów?\n",
    "mutation_type = \"random\"\n",
    "mutation_percent_genes = 5 # 20*0.05 czyli 1 gen sie zmieni\n",
    "\n",
    "env = gym.make('FrozenLake8x8-v1', is_slippery=False)\n",
    "\n",
    "# inicjacja algorytmu z powyzszymi parametrami wpisanymi w atrybuty\n",
    "ga_instance = pygad.GA(\n",
    "    gene_space=gene_space,\n",
    "    num_generations=num_generations,\n",
    "    num_parents_mating=num_parents_mating,\n",
    "    fitness_func=fitness_function,\n",
    "    sol_per_pop=sol_per_pop,\n",
    "    num_genes=num_genes,\n",
    "    parent_selection_type=parent_selection_type,\n",
    "    #keep_elitism=0, # pozbywamy się elityzmu\n",
    "    keep_parents=keep_parents,\n",
    "    crossover_type=crossover_type,\n",
    "    mutation_type=mutation_type,\n",
    "    mutation_percent_genes=mutation_percent_genes,\n",
    "    stop_criteria='reach_0'\n",
    ")\n",
    "\n",
    "# uruchomienie algorytmu\n",
    "ga_instance.run()\n",
    "\n",
    "solution, solution_fitness, solution_idx = ga_instance.best_solution()\n",
    "\n",
    "#ile pokoleń\n",
    "print(\"Number of generations passed is : {generations_completed}\".format(generations_completed=ga_instance.generations_completed))\n",
    "#podsumowanie: najlepsze znalezione rozwiazanie (ścieżka + ocena)\n",
    "print(\"Parameters of the best solution : {solution}\".format(solution=solution))\n",
    "print(\"Fitness value of the best solution = {solution_fitness}\".format(solution_fitness=solution_fitness))\n",
    "\n",
    "# wyswietlenie wykresu: jak zmieniała sie ocena na przestrzeni pokoleń\n",
    "ga_instance.plot_fitness()"
   ]
  },
  {
   "cell_type": "code",
   "execution_count": 36,
   "id": "a99b6013",
   "metadata": {},
   "outputs": [],
   "source": [
    "import gym\n",
    "import pygame\n",
    "import numpy as np\n",
    "#0: LEFT\n",
    "#1: DOWN\n",
    "#2: RIGHT\n",
    "#3: UP\n",
    "\n",
    "env = gym.make('FrozenLake8x8-v1', render_mode=\"human\", is_slippery=False)\n",
    "observation, info = env.reset(seed=42)\n",
    "\n",
    "for _ in solution:\n",
    "    action = int(_)\n",
    "    observation, reward, terminated, truncated, info = env.step(action)\n",
    "    if terminated:\n",
    "        observation, info = env.reset(seed=42)\n",
    "        break\n",
    "    if truncated:\n",
    "        break\n",
    "env.close()\n",
    "pygame.quit()"
   ]
  },
  {
   "cell_type": "markdown",
   "id": "6eaf2fd3",
   "metadata": {},
   "source": [
    "### Lunar Lander"
   ]
  },
  {
   "cell_type": "code",
   "execution_count": 22,
   "id": "477d64f7",
   "metadata": {},
   "outputs": [
    {
     "name": "stdout",
     "output_type": "stream",
     "text": [
      "Number of generations passed is : 25\n",
      "Parameters of the best solution : [1. 1. 2. 1. 3. 1. 1. 1. 2. 3. 0. 2. 2. 1. 1. 2. 3. 1. 3. 3. 0. 1. 0. 2.\n",
      " 1. 0. 0. 3. 2. 2. 3. 3. 2. 0. 1. 1. 0. 1. 3. 2. 2. 3. 1. 3. 0. 2. 1. 0.\n",
      " 2. 2. 3. 2. 1. 1. 0. 1. 2. 3. 3. 0. 2. 2. 0. 1. 0. 0. 2. 3. 2. 2. 2. 0.\n",
      " 0. 3. 3. 2. 0. 2. 3. 2. 2. 0. 2. 2. 3. 3. 0. 2. 2. 2. 0. 0. 2. 2. 2. 1.\n",
      " 1. 0. 0. 1. 2. 2. 0. 2. 2. 3. 2. 0. 2. 2. 0. 1. 2. 0. 1. 0. 3. 1. 3. 0.\n",
      " 0. 3. 0. 1. 3. 1. 1. 2. 2. 3. 1. 2. 1. 2. 2. 2. 1. 0. 2. 2. 1. 1. 0. 1.\n",
      " 2. 1. 2. 1. 2. 1. 1. 2. 3. 2. 1. 0. 2. 3. 1. 1. 0. 1. 3. 2. 2. 1. 2. 2.\n",
      " 1. 0. 3. 2. 0. 0. 0. 0. 1. 1. 3. 0. 2. 0. 0. 2. 2. 2. 1. 2. 3. 3. 3. 3.\n",
      " 1. 3. 3. 2. 3. 1. 0. 2.]\n",
      "Fitness value of the best solution = 172.2967235561808\n"
     ]
    },
    {
     "data": {
      "image/png": "[encoded data removed]",
      "text/plain": [
       "<Figure size 640x480 with 1 Axes>"
      ]
     },
     "metadata": {},
     "output_type": "display_data"
    },
    {
     "data": {
      "image/png": "[encoded data removed]",
      "text/plain": [
       "<Figure size 640x480 with 1 Axes>"
      ]
     },
     "execution_count": 22,
     "metadata": {},
     "output_type": "execute_result"
    }
   ],
   "source": [
    "import gym\n",
    "import pygad\n",
    "import pygame\n",
    "import numpy as np\n",
    "\n",
    "# definiujemy parametry rozwiązania\n",
    "# 0, 1, 2, 3 - nic, numer silnika\n",
    "gene_space = [0, 1, 2, 3]\n",
    "\n",
    "# definiujemy funkcję fitness\n",
    "def fitness_func(solution, solution_idx):\n",
    "    fitness = 0\n",
    "    total_reward = 0\n",
    "    observation, info = env.reset(seed=42)\n",
    "    for _ in solution:\n",
    "        action = int(_)\n",
    "        observation, reward, terminated, truncated, info = env.step(action)\n",
    "        # bonus za wylądowanie na środku i kara jeśli obie nogi nie stoją na księżycu\n",
    "        fitness = 10*observation[6] + 10*observation[7] - 10*abs(observation[0]) - 10*abs(observation[1])\n",
    "        total_reward += reward # nagrody z każdy ruch się kumulują\n",
    "        if terminated or truncated:\n",
    "            observation, info = env.reset(seed=42)\n",
    "            break\n",
    "    fitness += total_reward # dodajemy skumulowane nagrody, bonusy i kary\n",
    "    env.close()\n",
    "    pygame.quit()\n",
    "    return fitness\n",
    "\n",
    "fitness_function = fitness_func\n",
    "\n",
    "# ile chromosomów w populacji\n",
    "sol_per_pop = 500\n",
    "# ile genów ma chromosom\n",
    "num_genes = 200 # tyle mamy kroków, solution ma 200 genów\n",
    "\n",
    "# ile wylaniamy rodziców do \"rozmnażania\" (okolo 50% populacji)\n",
    "num_parents_mating = 250\n",
    "# ile pokoleń\n",
    "num_generations = 25\n",
    "# ilu rodziców zachować (kilka procent)\n",
    "keep_parents = 2\n",
    "\n",
    "# jaki typ selekcji rodzicow?\n",
    "#sss = steady, rws=roulette, rank = rankingowa, tournament = turniejowa\n",
    "parent_selection_type = \"sss\"\n",
    "\n",
    "# w ilu punktach robic krzyzowanie?\n",
    "#single_point, two_points, uniform, scattered\n",
    "crossover_type = \"single_point\"\n",
    "\n",
    "# mutacja ma dzialac na ilu procent genów?\n",
    "mutation_type = \"random\"\n",
    "mutation_percent_genes = 0.5 # 200*0.005 czyli 1 gen sie zmieni\n",
    "\n",
    "env = gym.make('LunarLander-v2')\n",
    "\n",
    "# inicjacja algorytmu z powyzszymi parametrami wpisanymi w atrybuty\n",
    "ga_instance = pygad.GA(\n",
    "    gene_space=gene_space,\n",
    "    num_generations=num_generations,\n",
    "    num_parents_mating=num_parents_mating,\n",
    "    fitness_func=fitness_function,\n",
    "    sol_per_pop=sol_per_pop,\n",
    "    num_genes=num_genes,\n",
    "    parent_selection_type=parent_selection_type,\n",
    "    #keep_elitism=0, # pozbywamy się elityzmu\n",
    "    keep_parents=keep_parents,\n",
    "    crossover_type=crossover_type,\n",
    "    mutation_type=mutation_type,\n",
    "    mutation_percent_genes=mutation_percent_genes,\n",
    "    stop_criteria='reach_200'\n",
    ")\n",
    "\n",
    "# uruchomienie algorytmu\n",
    "ga_instance.run()\n",
    "\n",
    "solution, solution_fitness, solution_idx = ga_instance.best_solution()\n",
    "\n",
    "#ile pokoleń\n",
    "print(\"Number of generations passed is : {generations_completed}\".format(generations_completed=ga_instance.generations_completed))\n",
    "#podsumowanie: najlepsze znalezione rozwiazanie (ścieżka + ocena)\n",
    "print(\"Parameters of the best solution : {solution}\".format(solution=solution))\n",
    "print(\"Fitness value of the best solution = {solution_fitness}\".format(solution_fitness=solution_fitness))\n",
    "\n",
    "# wyswietlenie wykresu: jak zmieniała sie ocena na przestrzeni pokoleń\n",
    "ga_instance.plot_fitness()"
   ]
  },
  {
   "cell_type": "code",
   "execution_count": 37,
   "id": "a0038993",
   "metadata": {},
   "outputs": [],
   "source": [
    "import gym\n",
    "import pygame\n",
    "import numpy as np\n",
    "# 0 - nothing, 1 - right engine, 2 - middle, 3 - left\n",
    "# observation[0 i 1]: lander coords - x, y\n",
    "# observation[2 i 3]: linear velocities (prędkości) - x, y\n",
    "# observation[4]: angle\n",
    "# observation[5]: angular velocity (prędkość)\n",
    "# observation[6 i 7]: if leg is on the ground (boolean: {0, 1})\n",
    "\n",
    "env = gym.make('LunarLander-v2', render_mode=\"human\")\n",
    "observation, info = env.reset(seed=42)\n",
    "\n",
    "solution = [1,1,2,1,3,1,1,1,2,3,0,2,2,1,1,2,3,1,3,3,0,1,0,2,\n",
    "            1,0,0,3,2,2,3,3,2,0,1,1,0,1,3,2,2,3,1,3,0,2,1,0,\n",
    "            2,2,3,2,1,1,0,1,2,3,3,0,2,2,0,1,0,0,2,3,2,2,2,0,\n",
    "            0,3,3,2,0,2,3,2,2,0,2,2,3,3,0,2,2,2,0,0,2,2,2,1,\n",
    "            1,0,0,1,2,2,0,2,2,3,2,0,2,2,0,1,2,0,1,0,3,1,3,0,\n",
    "            0,3,0,1,3,1,1,2,2,3,1,2,1,2,2,2,1,0,2,2,1,1,0,1,\n",
    "            2,1,2,1,2,1,1,2,3,2,1,0,2,3,1,1,0,1,3,2,2,1,2,2,\n",
    "            1,0,3,2,0,0,0,0,1,1,3,0,2,0,0,2,2,2,1,2,3,3,3,3,\n",
    "            1,3,3,2,3,1,0,2]\n",
    "for _ in solution:\n",
    "    action = int(_)\n",
    "    observation, reward, terminated, truncated, info = env.step(action)\n",
    "    if terminated or truncated:\n",
    "        observation, info = env.reset()\n",
    "        break\n",
    "env.close()\n",
    "pygame.quit()"
   ]
  },
  {
   "cell_type": "markdown",
   "id": "4536dc2a",
   "metadata": {},
   "source": [
    "## Zadanie 3"
   ]
  },
  {
   "cell_type": "code",
   "execution_count": null,
   "id": "8f8adb8d",
   "metadata": {},
   "outputs": [],
   "source": []
  },
  {
   "cell_type": "code",
   "execution_count": null,
   "id": "bcc8cf54",
   "metadata": {},
   "outputs": [],
   "source": []
  },
  {
   "cell_type": "markdown",
   "id": "6c667a64",
   "metadata": {},
   "source": [
    "## Zadanie 4"
   ]
  },
  {
   "cell_type": "code",
   "execution_count": null,
   "id": "ebf2a918",
   "metadata": {},
   "outputs": [],
   "source": []
  }
 ],
 "metadata": {
  "kernelspec": {
   "display_name": "Python 3 (ipykernel)",
   "language": "python",
   "name": "python3"
  },
  "language_info": {
   "codemirror_mode": {
    "name": "ipython",
    "version": 3
   },
   "file_extension": ".py",
   "mimetype": "text/x-python",
   "name": "python",
   "nbconvert_exporter": "python",
   "pygments_lexer": "ipython3",
   "version": "3.10.0"
  }
 },
 "nbformat": 4,
 "nbformat_minor": 5
}
