{
 "cells": [
  {
   "cell_type": "markdown",
   "id": "d8d6ba55",
   "metadata": {},
   "source": [
    "## Zadanie 1"
   ]
  },
  {
   "cell_type": "code",
   "execution_count": 1,
   "id": "02ca7fe3",
   "metadata": {},
   "outputs": [],
   "source": [
    "import pandas as pd\n",
    "import math"
   ]
  },
  {
   "cell_type": "code",
   "execution_count": 2,
   "id": "a5f3e02d",
   "metadata": {},
   "outputs": [
    {
     "data": {
      "text/html": [
       "<div>\n",
       "<style scoped>\n",
       "    .dataframe tbody tr th:only-of-type {\n",
       "        vertical-align: middle;\n",
       "    }\n",
       "\n",
       "    .dataframe tbody tr th {\n",
       "        vertical-align: top;\n",
       "    }\n",
       "\n",
       "    .dataframe thead th {\n",
       "        text-align: right;\n",
       "    }\n",
       "</style>\n",
       "<table border=\"1\" class=\"dataframe\">\n",
       "  <thead>\n",
       "    <tr style=\"text-align: right;\">\n",
       "      <th></th>\n",
       "      <th>wiek</th>\n",
       "      <th>waga</th>\n",
       "      <th>wzrost</th>\n",
       "      <th>gra</th>\n",
       "    </tr>\n",
       "  </thead>\n",
       "  <tbody>\n",
       "    <tr>\n",
       "      <th>0</th>\n",
       "      <td>23</td>\n",
       "      <td>75</td>\n",
       "      <td>176</td>\n",
       "      <td>True</td>\n",
       "    </tr>\n",
       "    <tr>\n",
       "      <th>1</th>\n",
       "      <td>25</td>\n",
       "      <td>67</td>\n",
       "      <td>180</td>\n",
       "      <td>True</td>\n",
       "    </tr>\n",
       "    <tr>\n",
       "      <th>2</th>\n",
       "      <td>28</td>\n",
       "      <td>120</td>\n",
       "      <td>175</td>\n",
       "      <td>False</td>\n",
       "    </tr>\n",
       "    <tr>\n",
       "      <th>3</th>\n",
       "      <td>22</td>\n",
       "      <td>65</td>\n",
       "      <td>165</td>\n",
       "      <td>True</td>\n",
       "    </tr>\n",
       "    <tr>\n",
       "      <th>4</th>\n",
       "      <td>46</td>\n",
       "      <td>70</td>\n",
       "      <td>187</td>\n",
       "      <td>True</td>\n",
       "    </tr>\n",
       "    <tr>\n",
       "      <th>5</th>\n",
       "      <td>50</td>\n",
       "      <td>68</td>\n",
       "      <td>180</td>\n",
       "      <td>False</td>\n",
       "    </tr>\n",
       "    <tr>\n",
       "      <th>6</th>\n",
       "      <td>48</td>\n",
       "      <td>97</td>\n",
       "      <td>178</td>\n",
       "      <td>False</td>\n",
       "    </tr>\n",
       "  </tbody>\n",
       "</table>\n",
       "</div>"
      ],
      "text/plain": [
       "   wiek  waga  wzrost    gra\n",
       "0    23    75     176   True\n",
       "1    25    67     180   True\n",
       "2    28   120     175  False\n",
       "3    22    65     165   True\n",
       "4    46    70     187   True\n",
       "5    50    68     180  False\n",
       "6    48    97     178  False"
      ]
     },
     "execution_count": 2,
     "metadata": {},
     "output_type": "execute_result"
    }
   ],
   "source": [
    "d = {\n",
    "    'wiek': [23, 25, 28, 22, 46, 50, 48],\n",
    "    'waga': [75, 67, 120, 65, 70, 68, 97],\n",
    "    'wzrost': [176, 180, 175, 165, 187, 180, 178],\n",
    "    'gra': [True, True, False, True, True, False, False]\n",
    "}\n",
    "df = pd.DataFrame(data=d)\n",
    "df"
   ]
  },
  {
   "cell_type": "code",
   "execution_count": 3,
   "id": "bd2968af",
   "metadata": {},
   "outputs": [],
   "source": [
    "def forwardPass(wiek, waga, wzrost):\n",
    "    hidden1 = wiek*(-0.46122) + waga*0.97314 + wzrost*(-0.39203) + 0.80109\n",
    "    hidden1_po_aktywacji = 1/(1+math.exp(-hidden1)) * (-0.81546)\n",
    "    hidden2 = wiek*0.78548 + waga*2.10584 + wzrost*(-0.57847) + 0.43529\n",
    "    hidden2_po_aktywacji = 1/(1+math.exp(-hidden2)) * 1.03775\n",
    "    output = hidden1_po_aktywacji + hidden2_po_aktywacji - 0.2368\n",
    "    return output"
   ]
  },
  {
   "cell_type": "code",
   "execution_count": 4,
   "id": "1d1681d3",
   "metadata": {},
   "outputs": [
    {
     "data": {
      "text/plain": [
       "0.7985341880063129"
      ]
     },
     "execution_count": 4,
     "metadata": {},
     "output_type": "execute_result"
    }
   ],
   "source": [
    "forwardPass(23, 75, 176) # 0.798528"
   ]
  },
  {
   "cell_type": "code",
   "execution_count": 5,
   "id": "3846c1d0",
   "metadata": {},
   "outputs": [
    {
     "data": {
      "text/plain": [
       "0.8009496622309037"
      ]
     },
     "execution_count": 5,
     "metadata": {},
     "output_type": "execute_result"
    }
   ],
   "source": [
    "forwardPass(22, 65, 175)"
   ]
  },
  {
   "cell_type": "markdown",
   "id": "f35e50d8",
   "metadata": {},
   "source": [
    "## Zadanie 2"
   ]
  },
  {
   "cell_type": "code",
   "execution_count": 6,
   "id": "104f4e4b",
   "metadata": {},
   "outputs": [],
   "source": [
    "import numpy as np\n",
    "import seaborn as sns # visualization\n",
    "from sklearn.neural_network import MLPClassifier # neural network\n",
    "from sklearn.model_selection import train_test_split\n",
    "from sklearn import metrics"
   ]
  },
  {
   "cell_type": "markdown",
   "id": "b016c93b",
   "metadata": {},
   "source": [
    "### a)"
   ]
  },
  {
   "cell_type": "code",
   "execution_count": 7,
   "id": "f14211df",
   "metadata": {},
   "outputs": [],
   "source": [
    "from sklearn.datasets import load_iris\n",
    "\n",
    "iris = load_iris()"
   ]
  },
  {
   "cell_type": "code",
   "execution_count": 8,
   "id": "7b8629dc",
   "metadata": {},
   "outputs": [],
   "source": [
    "# splitting into train and test datasets\n",
    "from sklearn.model_selection import train_test_split\n",
    "\n",
    "datasets = train_test_split(iris.data, iris.target, test_size=0.3)"
   ]
  },
  {
   "cell_type": "markdown",
   "id": "869f9c75",
   "metadata": {},
   "source": [
    "### b)"
   ]
  },
  {
   "cell_type": "code",
   "execution_count": 9,
   "id": "4c5c2a12",
   "metadata": {},
   "outputs": [],
   "source": [
    "train_data, test_data, train_labels, test_labels = datasets"
   ]
  },
  {
   "cell_type": "code",
   "execution_count": 10,
   "id": "df772fea",
   "metadata": {},
   "outputs": [
    {
     "data": {
      "text/plain": [
       "array([0, 2, 0, 2, 0, 2, 2, 2, 0, 2, 0, 2, 0, 1, 2, 2, 1, 1, 1, 2, 1, 2,\n",
       "       1, 1, 1, 1, 0, 0, 1, 2, 2, 0, 2, 0, 2, 0, 2, 2, 2, 0, 2, 2, 1, 0,\n",
       "       1, 2, 2, 2, 0, 1, 2, 0, 0, 1, 0, 0, 1, 0, 2, 0, 2, 0, 0, 0, 1, 0,\n",
       "       2, 1, 2, 0, 2, 2, 0, 0, 1, 1, 1, 1, 1, 2, 1, 1, 0, 1, 2, 1, 1, 1,\n",
       "       2, 0, 1, 0, 0, 1, 2, 1, 0, 1, 1, 0, 2, 2, 1, 2, 0])"
      ]
     },
     "execution_count": 10,
     "metadata": {},
     "output_type": "execute_result"
    }
   ],
   "source": [
    "train_labels"
   ]
  },
  {
   "cell_type": "markdown",
   "id": "377f2467",
   "metadata": {},
   "source": [
    "### c) skalowanie"
   ]
  },
  {
   "cell_type": "code",
   "execution_count": 11,
   "id": "e72d90c1",
   "metadata": {},
   "outputs": [
    {
     "name": "stdout",
     "output_type": "stream",
     "text": [
      "[[-0.56510933  0.87701676 -1.20028945 -1.3309167 ]\n",
      " [ 1.08640302  0.40598474  1.18192318  1.44812811]\n",
      " [-1.50883067  0.40598474 -1.37044749 -1.3309167 ]]\n"
     ]
    }
   ],
   "source": [
    "from sklearn.preprocessing import StandardScaler\n",
    "scaler = StandardScaler()\n",
    "\n",
    "# we fit the train data\n",
    "scaler.fit(train_data)\n",
    "\n",
    "# scaling the train data\n",
    "train_data = scaler.transform(train_data)\n",
    "test_data = scaler.transform(test_data)\n",
    "\n",
    "print(train_data[:3])"
   ]
  },
  {
   "cell_type": "markdown",
   "id": "a46ee111",
   "metadata": {},
   "source": [
    "### d)"
   ]
  },
  {
   "cell_type": "code",
   "execution_count": 12,
   "id": "98c85fc7",
   "metadata": {},
   "outputs": [
    {
     "name": "stderr",
     "output_type": "stream",
     "text": [
      "C:\\Users\\magda\\AppData\\Local\\Programs\\Python\\Python310\\lib\\site-packages\\sklearn\\neural_network\\_multilayer_perceptron.py:686: ConvergenceWarning: Stochastic Optimizer: Maximum iterations (1000) reached and the optimization hasn't converged yet.\n",
      "  warnings.warn(\n"
     ]
    },
    {
     "data": {
      "text/html": [
       "<style>#sk-container-id-1 {color: black;background-color: white;}#sk-container-id-1 pre{padding: 0;}#sk-container-id-1 div.sk-toggleable {background-color: white;}#sk-container-id-1 label.sk-toggleable__label {cursor: pointer;display: block;width: 100%;margin-bottom: 0;padding: 0.3em;box-sizing: border-box;text-align: center;}#sk-container-id-1 label.sk-toggleable__label-arrow:before {content: \"▸\";float: left;margin-right: 0.25em;color: #696969;}#sk-container-id-1 label.sk-toggleable__label-arrow:hover:before {color: black;}#sk-container-id-1 div.sk-estimator:hover label.sk-toggleable__label-arrow:before {color: black;}#sk-container-id-1 div.sk-toggleable__content {max-height: 0;max-width: 0;overflow: hidden;text-align: left;background-color: #f0f8ff;}#sk-container-id-1 div.sk-toggleable__content pre {margin: 0.2em;color: black;border-radius: 0.25em;background-color: #f0f8ff;}#sk-container-id-1 input.sk-toggleable__control:checked~div.sk-toggleable__content {max-height: 200px;max-width: 100%;overflow: auto;}#sk-container-id-1 input.sk-toggleable__control:checked~label.sk-toggleable__label-arrow:before {content: \"▾\";}#sk-container-id-1 div.sk-estimator input.sk-toggleable__control:checked~label.sk-toggleable__label {background-color: #d4ebff;}#sk-container-id-1 div.sk-label input.sk-toggleable__control:checked~label.sk-toggleable__label {background-color: #d4ebff;}#sk-container-id-1 input.sk-hidden--visually {border: 0;clip: rect(1px 1px 1px 1px);clip: rect(1px, 1px, 1px, 1px);height: 1px;margin: -1px;overflow: hidden;padding: 0;position: absolute;width: 1px;}#sk-container-id-1 div.sk-estimator {font-family: monospace;background-color: #f0f8ff;border: 1px dotted black;border-radius: 0.25em;box-sizing: border-box;margin-bottom: 0.5em;}#sk-container-id-1 div.sk-estimator:hover {background-color: #d4ebff;}#sk-container-id-1 div.sk-parallel-item::after {content: \"\";width: 100%;border-bottom: 1px solid gray;flex-grow: 1;}#sk-container-id-1 div.sk-label:hover label.sk-toggleable__label {background-color: #d4ebff;}#sk-container-id-1 div.sk-serial::before {content: \"\";position: absolute;border-left: 1px solid gray;box-sizing: border-box;top: 0;bottom: 0;left: 50%;z-index: 0;}#sk-container-id-1 div.sk-serial {display: flex;flex-direction: column;align-items: center;background-color: white;padding-right: 0.2em;padding-left: 0.2em;position: relative;}#sk-container-id-1 div.sk-item {position: relative;z-index: 1;}#sk-container-id-1 div.sk-parallel {display: flex;align-items: stretch;justify-content: center;background-color: white;position: relative;}#sk-container-id-1 div.sk-item::before, #sk-container-id-1 div.sk-parallel-item::before {content: \"\";position: absolute;border-left: 1px solid gray;box-sizing: border-box;top: 0;bottom: 0;left: 50%;z-index: -1;}#sk-container-id-1 div.sk-parallel-item {display: flex;flex-direction: column;z-index: 1;position: relative;background-color: white;}#sk-container-id-1 div.sk-parallel-item:first-child::after {align-self: flex-end;width: 50%;}#sk-container-id-1 div.sk-parallel-item:last-child::after {align-self: flex-start;width: 50%;}#sk-container-id-1 div.sk-parallel-item:only-child::after {width: 0;}#sk-container-id-1 div.sk-dashed-wrapped {border: 1px dashed gray;margin: 0 0.4em 0.5em 0.4em;box-sizing: border-box;padding-bottom: 0.4em;background-color: white;}#sk-container-id-1 div.sk-label label {font-family: monospace;font-weight: bold;display: inline-block;line-height: 1.2em;}#sk-container-id-1 div.sk-label-container {text-align: center;}#sk-container-id-1 div.sk-container {/* jupyter's `normalize.less` sets `[hidden] { display: none; }` but bootstrap.min.css set `[hidden] { display: none !important; }` so we also need the `!important` here to be able to override the default hidden behavior on the sphinx rendered scikit-learn.org. See: https://github.com/scikit-learn/scikit-learn/issues/21755 */display: inline-block !important;position: relative;}#sk-container-id-1 div.sk-text-repr-fallback {display: none;}</style><div id=\"sk-container-id-1\" class=\"sk-top-container\"><div class=\"sk-text-repr-fallback\"><pre>MLPClassifier(hidden_layer_sizes=(2,), max_iter=1000)</pre><b>In a Jupyter environment, please rerun this cell to show the HTML representation or trust the notebook. <br />On GitHub, the HTML representation is unable to render, please try loading this page with nbviewer.org.</b></div><div class=\"sk-container\" hidden><div class=\"sk-item\"><div class=\"sk-estimator sk-toggleable\"><input class=\"sk-toggleable__control sk-hidden--visually\" id=\"sk-estimator-id-1\" type=\"checkbox\" checked><label for=\"sk-estimator-id-1\" class=\"sk-toggleable__label sk-toggleable__label-arrow\">MLPClassifier</label><div class=\"sk-toggleable__content\"><pre>MLPClassifier(hidden_layer_sizes=(2,), max_iter=1000)</pre></div></div></div></div></div>"
      ],
      "text/plain": [
       "MLPClassifier(hidden_layer_sizes=(2,), max_iter=1000)"
      ]
     },
     "execution_count": 12,
     "metadata": {},
     "output_type": "execute_result"
    }
   ],
   "source": [
    "# Training the Model\n",
    "from sklearn.neural_network import MLPClassifier\n",
    "# creating an classifier from the model:\n",
    "mlp = MLPClassifier(hidden_layer_sizes=(2,), max_iter=1000)\n",
    "\n",
    "# let's fit the training data to our model\n",
    "mlp.fit(train_data, train_labels)"
   ]
  },
  {
   "cell_type": "markdown",
   "id": "138c7f92",
   "metadata": {},
   "source": [
    "### e)"
   ]
  },
  {
   "cell_type": "code",
   "execution_count": 13,
   "id": "3b50bcf8",
   "metadata": {},
   "outputs": [
    {
     "name": "stdout",
     "output_type": "stream",
     "text": [
      "0.8571428571428571\n",
      "0.9555555555555556\n"
     ]
    }
   ],
   "source": [
    "from sklearn.metrics import accuracy_score\n",
    "\n",
    "predictions_train = mlp.predict(train_data)\n",
    "print(accuracy_score(predictions_train, train_labels))\n",
    "predictions_test = mlp.predict(test_data)\n",
    "print(accuracy_score(predictions_test, test_labels))"
   ]
  },
  {
   "cell_type": "markdown",
   "id": "0b5d4214",
   "metadata": {},
   "source": [
    "### f)"
   ]
  },
  {
   "cell_type": "code",
   "execution_count": 14,
   "id": "56373e23",
   "metadata": {},
   "outputs": [
    {
     "name": "stderr",
     "output_type": "stream",
     "text": [
      "C:\\Users\\magda\\AppData\\Local\\Programs\\Python\\Python310\\lib\\site-packages\\sklearn\\neural_network\\_multilayer_perceptron.py:686: ConvergenceWarning: Stochastic Optimizer: Maximum iterations (1000) reached and the optimization hasn't converged yet.\n",
      "  warnings.warn(\n"
     ]
    },
    {
     "data": {
      "text/html": [
       "<style>#sk-container-id-2 {color: black;background-color: white;}#sk-container-id-2 pre{padding: 0;}#sk-container-id-2 div.sk-toggleable {background-color: white;}#sk-container-id-2 label.sk-toggleable__label {cursor: pointer;display: block;width: 100%;margin-bottom: 0;padding: 0.3em;box-sizing: border-box;text-align: center;}#sk-container-id-2 label.sk-toggleable__label-arrow:before {content: \"▸\";float: left;margin-right: 0.25em;color: #696969;}#sk-container-id-2 label.sk-toggleable__label-arrow:hover:before {color: black;}#sk-container-id-2 div.sk-estimator:hover label.sk-toggleable__label-arrow:before {color: black;}#sk-container-id-2 div.sk-toggleable__content {max-height: 0;max-width: 0;overflow: hidden;text-align: left;background-color: #f0f8ff;}#sk-container-id-2 div.sk-toggleable__content pre {margin: 0.2em;color: black;border-radius: 0.25em;background-color: #f0f8ff;}#sk-container-id-2 input.sk-toggleable__control:checked~div.sk-toggleable__content {max-height: 200px;max-width: 100%;overflow: auto;}#sk-container-id-2 input.sk-toggleable__control:checked~label.sk-toggleable__label-arrow:before {content: \"▾\";}#sk-container-id-2 div.sk-estimator input.sk-toggleable__control:checked~label.sk-toggleable__label {background-color: #d4ebff;}#sk-container-id-2 div.sk-label input.sk-toggleable__control:checked~label.sk-toggleable__label {background-color: #d4ebff;}#sk-container-id-2 input.sk-hidden--visually {border: 0;clip: rect(1px 1px 1px 1px);clip: rect(1px, 1px, 1px, 1px);height: 1px;margin: -1px;overflow: hidden;padding: 0;position: absolute;width: 1px;}#sk-container-id-2 div.sk-estimator {font-family: monospace;background-color: #f0f8ff;border: 1px dotted black;border-radius: 0.25em;box-sizing: border-box;margin-bottom: 0.5em;}#sk-container-id-2 div.sk-estimator:hover {background-color: #d4ebff;}#sk-container-id-2 div.sk-parallel-item::after {content: \"\";width: 100%;border-bottom: 1px solid gray;flex-grow: 1;}#sk-container-id-2 div.sk-label:hover label.sk-toggleable__label {background-color: #d4ebff;}#sk-container-id-2 div.sk-serial::before {content: \"\";position: absolute;border-left: 1px solid gray;box-sizing: border-box;top: 0;bottom: 0;left: 50%;z-index: 0;}#sk-container-id-2 div.sk-serial {display: flex;flex-direction: column;align-items: center;background-color: white;padding-right: 0.2em;padding-left: 0.2em;position: relative;}#sk-container-id-2 div.sk-item {position: relative;z-index: 1;}#sk-container-id-2 div.sk-parallel {display: flex;align-items: stretch;justify-content: center;background-color: white;position: relative;}#sk-container-id-2 div.sk-item::before, #sk-container-id-2 div.sk-parallel-item::before {content: \"\";position: absolute;border-left: 1px solid gray;box-sizing: border-box;top: 0;bottom: 0;left: 50%;z-index: -1;}#sk-container-id-2 div.sk-parallel-item {display: flex;flex-direction: column;z-index: 1;position: relative;background-color: white;}#sk-container-id-2 div.sk-parallel-item:first-child::after {align-self: flex-end;width: 50%;}#sk-container-id-2 div.sk-parallel-item:last-child::after {align-self: flex-start;width: 50%;}#sk-container-id-2 div.sk-parallel-item:only-child::after {width: 0;}#sk-container-id-2 div.sk-dashed-wrapped {border: 1px dashed gray;margin: 0 0.4em 0.5em 0.4em;box-sizing: border-box;padding-bottom: 0.4em;background-color: white;}#sk-container-id-2 div.sk-label label {font-family: monospace;font-weight: bold;display: inline-block;line-height: 1.2em;}#sk-container-id-2 div.sk-label-container {text-align: center;}#sk-container-id-2 div.sk-container {/* jupyter's `normalize.less` sets `[hidden] { display: none; }` but bootstrap.min.css set `[hidden] { display: none !important; }` so we also need the `!important` here to be able to override the default hidden behavior on the sphinx rendered scikit-learn.org. See: https://github.com/scikit-learn/scikit-learn/issues/21755 */display: inline-block !important;position: relative;}#sk-container-id-2 div.sk-text-repr-fallback {display: none;}</style><div id=\"sk-container-id-2\" class=\"sk-top-container\"><div class=\"sk-text-repr-fallback\"><pre>MLPClassifier(hidden_layer_sizes=(3,), max_iter=1000)</pre><b>In a Jupyter environment, please rerun this cell to show the HTML representation or trust the notebook. <br />On GitHub, the HTML representation is unable to render, please try loading this page with nbviewer.org.</b></div><div class=\"sk-container\" hidden><div class=\"sk-item\"><div class=\"sk-estimator sk-toggleable\"><input class=\"sk-toggleable__control sk-hidden--visually\" id=\"sk-estimator-id-2\" type=\"checkbox\" checked><label for=\"sk-estimator-id-2\" class=\"sk-toggleable__label sk-toggleable__label-arrow\">MLPClassifier</label><div class=\"sk-toggleable__content\"><pre>MLPClassifier(hidden_layer_sizes=(3,), max_iter=1000)</pre></div></div></div></div></div>"
      ],
      "text/plain": [
       "MLPClassifier(hidden_layer_sizes=(3,), max_iter=1000)"
      ]
     },
     "execution_count": 14,
     "metadata": {},
     "output_type": "execute_result"
    }
   ],
   "source": [
    "mlp1 = MLPClassifier(hidden_layer_sizes=(3,), max_iter=1000)\n",
    "\n",
    "mlp1.fit(train_data, train_labels)"
   ]
  },
  {
   "cell_type": "code",
   "execution_count": 15,
   "id": "535687fa",
   "metadata": {},
   "outputs": [
    {
     "name": "stdout",
     "output_type": "stream",
     "text": [
      "0.9619047619047619\n",
      "0.9777777777777777\n"
     ]
    }
   ],
   "source": [
    "predictions_train = mlp1.predict(train_data)\n",
    "print(accuracy_score(predictions_train, train_labels))\n",
    "predictions_test = mlp1.predict(test_data)\n",
    "print(accuracy_score(predictions_test, test_labels))"
   ]
  },
  {
   "cell_type": "markdown",
   "id": "c102e32f",
   "metadata": {},
   "source": [
    "### g)"
   ]
  },
  {
   "cell_type": "code",
   "execution_count": 16,
   "id": "f0909ebd",
   "metadata": {},
   "outputs": [
    {
     "data": {
      "text/html": [
       "<style>#sk-container-id-3 {color: black;background-color: white;}#sk-container-id-3 pre{padding: 0;}#sk-container-id-3 div.sk-toggleable {background-color: white;}#sk-container-id-3 label.sk-toggleable__label {cursor: pointer;display: block;width: 100%;margin-bottom: 0;padding: 0.3em;box-sizing: border-box;text-align: center;}#sk-container-id-3 label.sk-toggleable__label-arrow:before {content: \"▸\";float: left;margin-right: 0.25em;color: #696969;}#sk-container-id-3 label.sk-toggleable__label-arrow:hover:before {color: black;}#sk-container-id-3 div.sk-estimator:hover label.sk-toggleable__label-arrow:before {color: black;}#sk-container-id-3 div.sk-toggleable__content {max-height: 0;max-width: 0;overflow: hidden;text-align: left;background-color: #f0f8ff;}#sk-container-id-3 div.sk-toggleable__content pre {margin: 0.2em;color: black;border-radius: 0.25em;background-color: #f0f8ff;}#sk-container-id-3 input.sk-toggleable__control:checked~div.sk-toggleable__content {max-height: 200px;max-width: 100%;overflow: auto;}#sk-container-id-3 input.sk-toggleable__control:checked~label.sk-toggleable__label-arrow:before {content: \"▾\";}#sk-container-id-3 div.sk-estimator input.sk-toggleable__control:checked~label.sk-toggleable__label {background-color: #d4ebff;}#sk-container-id-3 div.sk-label input.sk-toggleable__control:checked~label.sk-toggleable__label {background-color: #d4ebff;}#sk-container-id-3 input.sk-hidden--visually {border: 0;clip: rect(1px 1px 1px 1px);clip: rect(1px, 1px, 1px, 1px);height: 1px;margin: -1px;overflow: hidden;padding: 0;position: absolute;width: 1px;}#sk-container-id-3 div.sk-estimator {font-family: monospace;background-color: #f0f8ff;border: 1px dotted black;border-radius: 0.25em;box-sizing: border-box;margin-bottom: 0.5em;}#sk-container-id-3 div.sk-estimator:hover {background-color: #d4ebff;}#sk-container-id-3 div.sk-parallel-item::after {content: \"\";width: 100%;border-bottom: 1px solid gray;flex-grow: 1;}#sk-container-id-3 div.sk-label:hover label.sk-toggleable__label {background-color: #d4ebff;}#sk-container-id-3 div.sk-serial::before {content: \"\";position: absolute;border-left: 1px solid gray;box-sizing: border-box;top: 0;bottom: 0;left: 50%;z-index: 0;}#sk-container-id-3 div.sk-serial {display: flex;flex-direction: column;align-items: center;background-color: white;padding-right: 0.2em;padding-left: 0.2em;position: relative;}#sk-container-id-3 div.sk-item {position: relative;z-index: 1;}#sk-container-id-3 div.sk-parallel {display: flex;align-items: stretch;justify-content: center;background-color: white;position: relative;}#sk-container-id-3 div.sk-item::before, #sk-container-id-3 div.sk-parallel-item::before {content: \"\";position: absolute;border-left: 1px solid gray;box-sizing: border-box;top: 0;bottom: 0;left: 50%;z-index: -1;}#sk-container-id-3 div.sk-parallel-item {display: flex;flex-direction: column;z-index: 1;position: relative;background-color: white;}#sk-container-id-3 div.sk-parallel-item:first-child::after {align-self: flex-end;width: 50%;}#sk-container-id-3 div.sk-parallel-item:last-child::after {align-self: flex-start;width: 50%;}#sk-container-id-3 div.sk-parallel-item:only-child::after {width: 0;}#sk-container-id-3 div.sk-dashed-wrapped {border: 1px dashed gray;margin: 0 0.4em 0.5em 0.4em;box-sizing: border-box;padding-bottom: 0.4em;background-color: white;}#sk-container-id-3 div.sk-label label {font-family: monospace;font-weight: bold;display: inline-block;line-height: 1.2em;}#sk-container-id-3 div.sk-label-container {text-align: center;}#sk-container-id-3 div.sk-container {/* jupyter's `normalize.less` sets `[hidden] { display: none; }` but bootstrap.min.css set `[hidden] { display: none !important; }` so we also need the `!important` here to be able to override the default hidden behavior on the sphinx rendered scikit-learn.org. See: https://github.com/scikit-learn/scikit-learn/issues/21755 */display: inline-block !important;position: relative;}#sk-container-id-3 div.sk-text-repr-fallback {display: none;}</style><div id=\"sk-container-id-3\" class=\"sk-top-container\"><div class=\"sk-text-repr-fallback\"><pre>MLPClassifier(hidden_layer_sizes=(3, 3), max_iter=1000)</pre><b>In a Jupyter environment, please rerun this cell to show the HTML representation or trust the notebook. <br />On GitHub, the HTML representation is unable to render, please try loading this page with nbviewer.org.</b></div><div class=\"sk-container\" hidden><div class=\"sk-item\"><div class=\"sk-estimator sk-toggleable\"><input class=\"sk-toggleable__control sk-hidden--visually\" id=\"sk-estimator-id-3\" type=\"checkbox\" checked><label for=\"sk-estimator-id-3\" class=\"sk-toggleable__label sk-toggleable__label-arrow\">MLPClassifier</label><div class=\"sk-toggleable__content\"><pre>MLPClassifier(hidden_layer_sizes=(3, 3), max_iter=1000)</pre></div></div></div></div></div>"
      ],
      "text/plain": [
       "MLPClassifier(hidden_layer_sizes=(3, 3), max_iter=1000)"
      ]
     },
     "execution_count": 16,
     "metadata": {},
     "output_type": "execute_result"
    }
   ],
   "source": [
    "mlp2 = MLPClassifier(hidden_layer_sizes=(3, 3,), max_iter=1000)\n",
    "\n",
    "mlp2.fit(train_data, train_labels)"
   ]
  },
  {
   "cell_type": "code",
   "execution_count": 17,
   "id": "cc0feee1",
   "metadata": {},
   "outputs": [
    {
     "name": "stdout",
     "output_type": "stream",
     "text": [
      "0.3238095238095238\n",
      "0.35555555555555557\n"
     ]
    }
   ],
   "source": [
    "predictions_train = mlp2.predict(train_data)\n",
    "print(accuracy_score(predictions_train, train_labels))\n",
    "predictions_test = mlp2.predict(test_data)\n",
    "print(accuracy_score(predictions_test, test_labels))"
   ]
  },
  {
   "cell_type": "code",
   "execution_count": 18,
   "id": "5a2f260f",
   "metadata": {},
   "outputs": [],
   "source": [
    "# najwyższe accuracy na zbiorze testowym ma model z dwiema warstwami neuronowymi, po 3 neurony każda"
   ]
  },
  {
   "cell_type": "markdown",
   "id": "1d137be1",
   "metadata": {},
   "source": [
    "## Zadanie 3"
   ]
  },
  {
   "cell_type": "code",
   "execution_count": 19,
   "id": "b74e4a41",
   "metadata": {},
   "outputs": [
    {
     "name": "stdout",
     "output_type": "stream",
     "text": [
      "     pregnant-times  glucose-concentr  blood-pressure  skin-thickness  \\\n",
      "0                 6               148              72              35   \n",
      "1                 1                85              66              29   \n",
      "2                 8               183              64               0   \n",
      "3                 1                89              66              23   \n",
      "4                 0               137              40              35   \n",
      "..              ...               ...             ...             ...   \n",
      "763              10               101              76              48   \n",
      "764               2               122              70              27   \n",
      "765               5               121              72              23   \n",
      "766               1               126              60               0   \n",
      "767               1                93              70              31   \n",
      "\n",
      "     insulin  mass-index  pedigree-func  age            class  \n",
      "0          0        33.6          0.627   50  tested_positive  \n",
      "1          0        26.6          0.351   31  tested_negative  \n",
      "2          0        23.3          0.672   32  tested_positive  \n",
      "3         94        28.1          0.167   21  tested_negative  \n",
      "4        168        43.1          2.288   33  tested_positive  \n",
      "..       ...         ...            ...  ...              ...  \n",
      "763      180        32.9          0.171   63  tested_negative  \n",
      "764        0        36.8          0.340   27  tested_negative  \n",
      "765      112        26.2          0.245   30  tested_negative  \n",
      "766        0        30.1          0.349   47  tested_positive  \n",
      "767        0        30.4          0.315   23  tested_negative  \n",
      "\n",
      "[768 rows x 9 columns]\n"
     ]
    }
   ],
   "source": [
    "df = pd.read_csv(\"data/diabetes.csv\")\n",
    "print(df)"
   ]
  },
  {
   "cell_type": "code",
   "execution_count": 20,
   "id": "d86036f6",
   "metadata": {},
   "outputs": [
    {
     "name": "stdout",
     "output_type": "stream",
     "text": [
      "(768, 9)\n"
     ]
    },
    {
     "data": {
      "text/html": [
       "<div>\n",
       "<style scoped>\n",
       "    .dataframe tbody tr th:only-of-type {\n",
       "        vertical-align: middle;\n",
       "    }\n",
       "\n",
       "    .dataframe tbody tr th {\n",
       "        vertical-align: top;\n",
       "    }\n",
       "\n",
       "    .dataframe thead th {\n",
       "        text-align: right;\n",
       "    }\n",
       "</style>\n",
       "<table border=\"1\" class=\"dataframe\">\n",
       "  <thead>\n",
       "    <tr style=\"text-align: right;\">\n",
       "      <th></th>\n",
       "      <th>count</th>\n",
       "      <th>mean</th>\n",
       "      <th>std</th>\n",
       "      <th>min</th>\n",
       "      <th>25%</th>\n",
       "      <th>50%</th>\n",
       "      <th>75%</th>\n",
       "      <th>max</th>\n",
       "    </tr>\n",
       "  </thead>\n",
       "  <tbody>\n",
       "    <tr>\n",
       "      <th>pregnant-times</th>\n",
       "      <td>768.0</td>\n",
       "      <td>3.845052</td>\n",
       "      <td>3.369578</td>\n",
       "      <td>0.000</td>\n",
       "      <td>1.00000</td>\n",
       "      <td>3.0000</td>\n",
       "      <td>6.00000</td>\n",
       "      <td>17.00</td>\n",
       "    </tr>\n",
       "    <tr>\n",
       "      <th>glucose-concentr</th>\n",
       "      <td>768.0</td>\n",
       "      <td>120.894531</td>\n",
       "      <td>31.972618</td>\n",
       "      <td>0.000</td>\n",
       "      <td>99.00000</td>\n",
       "      <td>117.0000</td>\n",
       "      <td>140.25000</td>\n",
       "      <td>199.00</td>\n",
       "    </tr>\n",
       "    <tr>\n",
       "      <th>blood-pressure</th>\n",
       "      <td>768.0</td>\n",
       "      <td>69.105469</td>\n",
       "      <td>19.355807</td>\n",
       "      <td>0.000</td>\n",
       "      <td>62.00000</td>\n",
       "      <td>72.0000</td>\n",
       "      <td>80.00000</td>\n",
       "      <td>122.00</td>\n",
       "    </tr>\n",
       "    <tr>\n",
       "      <th>skin-thickness</th>\n",
       "      <td>768.0</td>\n",
       "      <td>20.536458</td>\n",
       "      <td>15.952218</td>\n",
       "      <td>0.000</td>\n",
       "      <td>0.00000</td>\n",
       "      <td>23.0000</td>\n",
       "      <td>32.00000</td>\n",
       "      <td>99.00</td>\n",
       "    </tr>\n",
       "    <tr>\n",
       "      <th>insulin</th>\n",
       "      <td>768.0</td>\n",
       "      <td>79.799479</td>\n",
       "      <td>115.244002</td>\n",
       "      <td>0.000</td>\n",
       "      <td>0.00000</td>\n",
       "      <td>30.5000</td>\n",
       "      <td>127.25000</td>\n",
       "      <td>846.00</td>\n",
       "    </tr>\n",
       "    <tr>\n",
       "      <th>mass-index</th>\n",
       "      <td>768.0</td>\n",
       "      <td>31.992578</td>\n",
       "      <td>7.884160</td>\n",
       "      <td>0.000</td>\n",
       "      <td>27.30000</td>\n",
       "      <td>32.0000</td>\n",
       "      <td>36.60000</td>\n",
       "      <td>67.10</td>\n",
       "    </tr>\n",
       "    <tr>\n",
       "      <th>pedigree-func</th>\n",
       "      <td>768.0</td>\n",
       "      <td>0.471876</td>\n",
       "      <td>0.331329</td>\n",
       "      <td>0.078</td>\n",
       "      <td>0.24375</td>\n",
       "      <td>0.3725</td>\n",
       "      <td>0.62625</td>\n",
       "      <td>2.42</td>\n",
       "    </tr>\n",
       "    <tr>\n",
       "      <th>age</th>\n",
       "      <td>768.0</td>\n",
       "      <td>33.240885</td>\n",
       "      <td>11.760232</td>\n",
       "      <td>21.000</td>\n",
       "      <td>24.00000</td>\n",
       "      <td>29.0000</td>\n",
       "      <td>41.00000</td>\n",
       "      <td>81.00</td>\n",
       "    </tr>\n",
       "  </tbody>\n",
       "</table>\n",
       "</div>"
      ],
      "text/plain": [
       "                  count        mean         std     min       25%       50%  \\\n",
       "pregnant-times    768.0    3.845052    3.369578   0.000   1.00000    3.0000   \n",
       "glucose-concentr  768.0  120.894531   31.972618   0.000  99.00000  117.0000   \n",
       "blood-pressure    768.0   69.105469   19.355807   0.000  62.00000   72.0000   \n",
       "skin-thickness    768.0   20.536458   15.952218   0.000   0.00000   23.0000   \n",
       "insulin           768.0   79.799479  115.244002   0.000   0.00000   30.5000   \n",
       "mass-index        768.0   31.992578    7.884160   0.000  27.30000   32.0000   \n",
       "pedigree-func     768.0    0.471876    0.331329   0.078   0.24375    0.3725   \n",
       "age               768.0   33.240885   11.760232  21.000  24.00000   29.0000   \n",
       "\n",
       "                        75%     max  \n",
       "pregnant-times      6.00000   17.00  \n",
       "glucose-concentr  140.25000  199.00  \n",
       "blood-pressure     80.00000  122.00  \n",
       "skin-thickness     32.00000   99.00  \n",
       "insulin           127.25000  846.00  \n",
       "mass-index         36.60000   67.10  \n",
       "pedigree-func       0.62625    2.42  \n",
       "age                41.00000   81.00  "
      ]
     },
     "execution_count": 20,
     "metadata": {},
     "output_type": "execute_result"
    }
   ],
   "source": [
    "print(df.shape)\n",
    "df.describe().transpose()"
   ]
  },
  {
   "cell_type": "markdown",
   "id": "b11fac6d",
   "metadata": {},
   "source": [
    "### a)"
   ]
  },
  {
   "cell_type": "code",
   "execution_count": 21,
   "id": "e6fafe0f",
   "metadata": {},
   "outputs": [
    {
     "data": {
      "text/html": [
       "<div>\n",
       "<style scoped>\n",
       "    .dataframe tbody tr th:only-of-type {\n",
       "        vertical-align: middle;\n",
       "    }\n",
       "\n",
       "    .dataframe tbody tr th {\n",
       "        vertical-align: top;\n",
       "    }\n",
       "\n",
       "    .dataframe thead th {\n",
       "        text-align: right;\n",
       "    }\n",
       "</style>\n",
       "<table border=\"1\" class=\"dataframe\">\n",
       "  <thead>\n",
       "    <tr style=\"text-align: right;\">\n",
       "      <th></th>\n",
       "      <th>count</th>\n",
       "      <th>mean</th>\n",
       "      <th>std</th>\n",
       "      <th>min</th>\n",
       "      <th>25%</th>\n",
       "      <th>50%</th>\n",
       "      <th>75%</th>\n",
       "      <th>max</th>\n",
       "    </tr>\n",
       "  </thead>\n",
       "  <tbody>\n",
       "    <tr>\n",
       "      <th>pregnant-times</th>\n",
       "      <td>768.0</td>\n",
       "      <td>0.226180</td>\n",
       "      <td>0.198210</td>\n",
       "      <td>0.000000</td>\n",
       "      <td>0.058824</td>\n",
       "      <td>0.176471</td>\n",
       "      <td>0.352941</td>\n",
       "      <td>1.0</td>\n",
       "    </tr>\n",
       "    <tr>\n",
       "      <th>glucose-concentr</th>\n",
       "      <td>768.0</td>\n",
       "      <td>0.607510</td>\n",
       "      <td>0.160666</td>\n",
       "      <td>0.000000</td>\n",
       "      <td>0.497487</td>\n",
       "      <td>0.587940</td>\n",
       "      <td>0.704774</td>\n",
       "      <td>1.0</td>\n",
       "    </tr>\n",
       "    <tr>\n",
       "      <th>blood-pressure</th>\n",
       "      <td>768.0</td>\n",
       "      <td>0.566438</td>\n",
       "      <td>0.158654</td>\n",
       "      <td>0.000000</td>\n",
       "      <td>0.508197</td>\n",
       "      <td>0.590164</td>\n",
       "      <td>0.655738</td>\n",
       "      <td>1.0</td>\n",
       "    </tr>\n",
       "    <tr>\n",
       "      <th>skin-thickness</th>\n",
       "      <td>768.0</td>\n",
       "      <td>0.207439</td>\n",
       "      <td>0.161134</td>\n",
       "      <td>0.000000</td>\n",
       "      <td>0.000000</td>\n",
       "      <td>0.232323</td>\n",
       "      <td>0.323232</td>\n",
       "      <td>1.0</td>\n",
       "    </tr>\n",
       "    <tr>\n",
       "      <th>insulin</th>\n",
       "      <td>768.0</td>\n",
       "      <td>0.094326</td>\n",
       "      <td>0.136222</td>\n",
       "      <td>0.000000</td>\n",
       "      <td>0.000000</td>\n",
       "      <td>0.036052</td>\n",
       "      <td>0.150414</td>\n",
       "      <td>1.0</td>\n",
       "    </tr>\n",
       "    <tr>\n",
       "      <th>mass-index</th>\n",
       "      <td>768.0</td>\n",
       "      <td>0.476790</td>\n",
       "      <td>0.117499</td>\n",
       "      <td>0.000000</td>\n",
       "      <td>0.406855</td>\n",
       "      <td>0.476900</td>\n",
       "      <td>0.545455</td>\n",
       "      <td>1.0</td>\n",
       "    </tr>\n",
       "    <tr>\n",
       "      <th>pedigree-func</th>\n",
       "      <td>768.0</td>\n",
       "      <td>0.194990</td>\n",
       "      <td>0.136913</td>\n",
       "      <td>0.032231</td>\n",
       "      <td>0.100723</td>\n",
       "      <td>0.153926</td>\n",
       "      <td>0.258781</td>\n",
       "      <td>1.0</td>\n",
       "    </tr>\n",
       "    <tr>\n",
       "      <th>age</th>\n",
       "      <td>768.0</td>\n",
       "      <td>0.410381</td>\n",
       "      <td>0.145188</td>\n",
       "      <td>0.259259</td>\n",
       "      <td>0.296296</td>\n",
       "      <td>0.358025</td>\n",
       "      <td>0.506173</td>\n",
       "      <td>1.0</td>\n",
       "    </tr>\n",
       "  </tbody>\n",
       "</table>\n",
       "</div>"
      ],
      "text/plain": [
       "                  count      mean       std       min       25%       50%  \\\n",
       "pregnant-times    768.0  0.226180  0.198210  0.000000  0.058824  0.176471   \n",
       "glucose-concentr  768.0  0.607510  0.160666  0.000000  0.497487  0.587940   \n",
       "blood-pressure    768.0  0.566438  0.158654  0.000000  0.508197  0.590164   \n",
       "skin-thickness    768.0  0.207439  0.161134  0.000000  0.000000  0.232323   \n",
       "insulin           768.0  0.094326  0.136222  0.000000  0.000000  0.036052   \n",
       "mass-index        768.0  0.476790  0.117499  0.000000  0.406855  0.476900   \n",
       "pedigree-func     768.0  0.194990  0.136913  0.032231  0.100723  0.153926   \n",
       "age               768.0  0.410381  0.145188  0.259259  0.296296  0.358025   \n",
       "\n",
       "                       75%  max  \n",
       "pregnant-times    0.352941  1.0  \n",
       "glucose-concentr  0.704774  1.0  \n",
       "blood-pressure    0.655738  1.0  \n",
       "skin-thickness    0.323232  1.0  \n",
       "insulin           0.150414  1.0  \n",
       "mass-index        0.545455  1.0  \n",
       "pedigree-func     0.258781  1.0  \n",
       "age               0.506173  1.0  "
      ]
     },
     "execution_count": 21,
     "metadata": {},
     "output_type": "execute_result"
    }
   ],
   "source": [
    "target_column = ['class'] # creates an object of the target variable\n",
    "predictors = list(set(list(df.columns))-set(target_column)) # gives the list of all the features, excluding the target variable\n",
    "df[predictors] = df[predictors]/df[predictors].max() # normalizes the predictors\n",
    "df.describe().transpose()"
   ]
  },
  {
   "cell_type": "code",
   "execution_count": 22,
   "id": "3e4e1bff",
   "metadata": {},
   "outputs": [
    {
     "name": "stdout",
     "output_type": "stream",
     "text": [
      "(537, 8)\n",
      "(231, 8)\n"
     ]
    }
   ],
   "source": [
    "X = df[predictors].values\n",
    "y = df[target_column].values\n",
    "\n",
    "X_train, X_test, y_train, y_test = train_test_split(X, y, test_size=0.30, random_state=40)\n",
    "print(X_train.shape); print(X_test.shape)"
   ]
  },
  {
   "cell_type": "markdown",
   "id": "5c6ceeb4",
   "metadata": {},
   "source": [
    "### b) i c)"
   ]
  },
  {
   "cell_type": "code",
   "execution_count": 23,
   "id": "ee628719",
   "metadata": {},
   "outputs": [
    {
     "name": "stderr",
     "output_type": "stream",
     "text": [
      "C:\\Users\\magda\\AppData\\Local\\Programs\\Python\\Python310\\lib\\site-packages\\sklearn\\neural_network\\_multilayer_perceptron.py:1098: DataConversionWarning: A column-vector y was passed when a 1d array was expected. Please change the shape of y to (n_samples, ), for example using ravel().\n",
      "  y = column_or_1d(y, warn=True)\n",
      "C:\\Users\\magda\\AppData\\Local\\Programs\\Python\\Python310\\lib\\site-packages\\sklearn\\neural_network\\_multilayer_perceptron.py:686: ConvergenceWarning: Stochastic Optimizer: Maximum iterations (500) reached and the optimization hasn't converged yet.\n",
      "  warnings.warn(\n"
     ]
    }
   ],
   "source": [
    "from sklearn.neural_network import MLPClassifier\n",
    "\n",
    "# 'hidden_layer_sizes' argument set to 2 layers, first with 6 neurons, second with 3 neurons\n",
    "# 'relu' as the activation function and 'adam' as the solver for weight optimization\n",
    "mlp = MLPClassifier(hidden_layer_sizes=(6,3), activation='relu', solver='adam', max_iter=500)\n",
    "mlp.fit(X_train,y_train)\n",
    "\n",
    "predict_train = mlp.predict(X_train)\n",
    "predict_test = mlp.predict(X_test)"
   ]
  },
  {
   "cell_type": "markdown",
   "id": "19750719",
   "metadata": {},
   "source": [
    "### d)"
   ]
  },
  {
   "cell_type": "code",
   "execution_count": 24,
   "id": "766989bf",
   "metadata": {},
   "outputs": [
    {
     "name": "stdout",
     "output_type": "stream",
     "text": [
      "[[127  15]\n",
      " [ 43  46]]\n",
      "                 precision    recall  f1-score   support\n",
      "\n",
      "tested_negative       0.75      0.89      0.81       142\n",
      "tested_positive       0.75      0.52      0.61        89\n",
      "\n",
      "       accuracy                           0.75       231\n",
      "      macro avg       0.75      0.71      0.71       231\n",
      "   weighted avg       0.75      0.75      0.74       231\n",
      "\n"
     ]
    }
   ],
   "source": [
    "from sklearn.metrics import classification_report,confusion_matrix\n",
    "print(confusion_matrix(y_test, predict_test))\n",
    "print(classification_report(y_test, predict_test))"
   ]
  },
  {
   "cell_type": "code",
   "execution_count": 25,
   "id": "ee883df2",
   "metadata": {},
   "outputs": [
    {
     "name": "stdout",
     "output_type": "stream",
     "text": [
      "0.776536312849162\n",
      "0.7489177489177489\n"
     ]
    }
   ],
   "source": [
    "print(accuracy_score(predict_train, y_train))\n",
    "print(accuracy_score(predict_test, y_test))"
   ]
  },
  {
   "cell_type": "markdown",
   "id": "37366898",
   "metadata": {},
   "source": [
    "## Zadanie 4"
   ]
  },
  {
   "cell_type": "markdown",
   "id": "177d9306",
   "metadata": {},
   "source": [
    "### a)"
   ]
  },
  {
   "cell_type": "code",
   "execution_count": 26,
   "id": "4266bad8",
   "metadata": {},
   "outputs": [],
   "source": [
    "import keras\n",
    "from keras.models import Sequential\n",
    "from keras.layers import Dense\n",
    "from keras.utils import to_categorical"
   ]
  },
  {
   "cell_type": "code",
   "execution_count": 27,
   "id": "ebe5cdc0",
   "metadata": {},
   "outputs": [],
   "source": [
    "# pip install keras\n",
    "# pip install --user tensorflow"
   ]
  },
  {
   "cell_type": "code",
   "execution_count": 28,
   "id": "5d1c12a0",
   "metadata": {},
   "outputs": [
    {
     "name": "stdout",
     "output_type": "stream",
     "text": [
      "(768, 9)\n"
     ]
    },
    {
     "data": {
      "text/html": [
       "<div>\n",
       "<style scoped>\n",
       "    .dataframe tbody tr th:only-of-type {\n",
       "        vertical-align: middle;\n",
       "    }\n",
       "\n",
       "    .dataframe tbody tr th {\n",
       "        vertical-align: top;\n",
       "    }\n",
       "\n",
       "    .dataframe thead th {\n",
       "        text-align: right;\n",
       "    }\n",
       "</style>\n",
       "<table border=\"1\" class=\"dataframe\">\n",
       "  <thead>\n",
       "    <tr style=\"text-align: right;\">\n",
       "      <th></th>\n",
       "      <th>pregnant-times</th>\n",
       "      <th>glucose-concentr</th>\n",
       "      <th>blood-pressure</th>\n",
       "      <th>skin-thickness</th>\n",
       "      <th>insulin</th>\n",
       "      <th>mass-index</th>\n",
       "      <th>pedigree-func</th>\n",
       "      <th>age</th>\n",
       "    </tr>\n",
       "  </thead>\n",
       "  <tbody>\n",
       "    <tr>\n",
       "      <th>count</th>\n",
       "      <td>768.000000</td>\n",
       "      <td>768.000000</td>\n",
       "      <td>768.000000</td>\n",
       "      <td>768.000000</td>\n",
       "      <td>768.000000</td>\n",
       "      <td>768.000000</td>\n",
       "      <td>768.000000</td>\n",
       "      <td>768.000000</td>\n",
       "    </tr>\n",
       "    <tr>\n",
       "      <th>mean</th>\n",
       "      <td>3.845052</td>\n",
       "      <td>120.894531</td>\n",
       "      <td>69.105469</td>\n",
       "      <td>20.536458</td>\n",
       "      <td>79.799479</td>\n",
       "      <td>31.992578</td>\n",
       "      <td>0.471876</td>\n",
       "      <td>33.240885</td>\n",
       "    </tr>\n",
       "    <tr>\n",
       "      <th>std</th>\n",
       "      <td>3.369578</td>\n",
       "      <td>31.972618</td>\n",
       "      <td>19.355807</td>\n",
       "      <td>15.952218</td>\n",
       "      <td>115.244002</td>\n",
       "      <td>7.884160</td>\n",
       "      <td>0.331329</td>\n",
       "      <td>11.760232</td>\n",
       "    </tr>\n",
       "    <tr>\n",
       "      <th>min</th>\n",
       "      <td>0.000000</td>\n",
       "      <td>0.000000</td>\n",
       "      <td>0.000000</td>\n",
       "      <td>0.000000</td>\n",
       "      <td>0.000000</td>\n",
       "      <td>0.000000</td>\n",
       "      <td>0.078000</td>\n",
       "      <td>21.000000</td>\n",
       "    </tr>\n",
       "    <tr>\n",
       "      <th>25%</th>\n",
       "      <td>1.000000</td>\n",
       "      <td>99.000000</td>\n",
       "      <td>62.000000</td>\n",
       "      <td>0.000000</td>\n",
       "      <td>0.000000</td>\n",
       "      <td>27.300000</td>\n",
       "      <td>0.243750</td>\n",
       "      <td>24.000000</td>\n",
       "    </tr>\n",
       "    <tr>\n",
       "      <th>50%</th>\n",
       "      <td>3.000000</td>\n",
       "      <td>117.000000</td>\n",
       "      <td>72.000000</td>\n",
       "      <td>23.000000</td>\n",
       "      <td>30.500000</td>\n",
       "      <td>32.000000</td>\n",
       "      <td>0.372500</td>\n",
       "      <td>29.000000</td>\n",
       "    </tr>\n",
       "    <tr>\n",
       "      <th>75%</th>\n",
       "      <td>6.000000</td>\n",
       "      <td>140.250000</td>\n",
       "      <td>80.000000</td>\n",
       "      <td>32.000000</td>\n",
       "      <td>127.250000</td>\n",
       "      <td>36.600000</td>\n",
       "      <td>0.626250</td>\n",
       "      <td>41.000000</td>\n",
       "    </tr>\n",
       "    <tr>\n",
       "      <th>max</th>\n",
       "      <td>17.000000</td>\n",
       "      <td>199.000000</td>\n",
       "      <td>122.000000</td>\n",
       "      <td>99.000000</td>\n",
       "      <td>846.000000</td>\n",
       "      <td>67.100000</td>\n",
       "      <td>2.420000</td>\n",
       "      <td>81.000000</td>\n",
       "    </tr>\n",
       "  </tbody>\n",
       "</table>\n",
       "</div>"
      ],
      "text/plain": [
       "       pregnant-times  glucose-concentr  blood-pressure  skin-thickness  \\\n",
       "count      768.000000        768.000000      768.000000      768.000000   \n",
       "mean         3.845052        120.894531       69.105469       20.536458   \n",
       "std          3.369578         31.972618       19.355807       15.952218   \n",
       "min          0.000000          0.000000        0.000000        0.000000   \n",
       "25%          1.000000         99.000000       62.000000        0.000000   \n",
       "50%          3.000000        117.000000       72.000000       23.000000   \n",
       "75%          6.000000        140.250000       80.000000       32.000000   \n",
       "max         17.000000        199.000000      122.000000       99.000000   \n",
       "\n",
       "          insulin  mass-index  pedigree-func         age  \n",
       "count  768.000000  768.000000     768.000000  768.000000  \n",
       "mean    79.799479   31.992578       0.471876   33.240885  \n",
       "std    115.244002    7.884160       0.331329   11.760232  \n",
       "min      0.000000    0.000000       0.078000   21.000000  \n",
       "25%      0.000000   27.300000       0.243750   24.000000  \n",
       "50%     30.500000   32.000000       0.372500   29.000000  \n",
       "75%    127.250000   36.600000       0.626250   41.000000  \n",
       "max    846.000000   67.100000       2.420000   81.000000  "
      ]
     },
     "execution_count": 28,
     "metadata": {},
     "output_type": "execute_result"
    }
   ],
   "source": [
    "df = pd.read_csv('data/diabetes.csv') \n",
    "print(df.shape)\n",
    "df.describe()"
   ]
  },
  {
   "cell_type": "code",
   "execution_count": 29,
   "id": "9955c71c",
   "metadata": {},
   "outputs": [
    {
     "data": {
      "text/html": [
       "<div>\n",
       "<style scoped>\n",
       "    .dataframe tbody tr th:only-of-type {\n",
       "        vertical-align: middle;\n",
       "    }\n",
       "\n",
       "    .dataframe tbody tr th {\n",
       "        vertical-align: top;\n",
       "    }\n",
       "\n",
       "    .dataframe thead th {\n",
       "        text-align: right;\n",
       "    }\n",
       "</style>\n",
       "<table border=\"1\" class=\"dataframe\">\n",
       "  <thead>\n",
       "    <tr style=\"text-align: right;\">\n",
       "      <th></th>\n",
       "      <th>pregnant-times</th>\n",
       "      <th>glucose-concentr</th>\n",
       "      <th>blood-pressure</th>\n",
       "      <th>skin-thickness</th>\n",
       "      <th>insulin</th>\n",
       "      <th>mass-index</th>\n",
       "      <th>pedigree-func</th>\n",
       "      <th>age</th>\n",
       "    </tr>\n",
       "  </thead>\n",
       "  <tbody>\n",
       "    <tr>\n",
       "      <th>count</th>\n",
       "      <td>768.000000</td>\n",
       "      <td>768.000000</td>\n",
       "      <td>768.000000</td>\n",
       "      <td>768.000000</td>\n",
       "      <td>768.000000</td>\n",
       "      <td>768.000000</td>\n",
       "      <td>768.000000</td>\n",
       "      <td>768.000000</td>\n",
       "    </tr>\n",
       "    <tr>\n",
       "      <th>mean</th>\n",
       "      <td>0.226180</td>\n",
       "      <td>0.607510</td>\n",
       "      <td>0.566438</td>\n",
       "      <td>0.207439</td>\n",
       "      <td>0.094326</td>\n",
       "      <td>0.476790</td>\n",
       "      <td>0.194990</td>\n",
       "      <td>0.410381</td>\n",
       "    </tr>\n",
       "    <tr>\n",
       "      <th>std</th>\n",
       "      <td>0.198210</td>\n",
       "      <td>0.160666</td>\n",
       "      <td>0.158654</td>\n",
       "      <td>0.161134</td>\n",
       "      <td>0.136222</td>\n",
       "      <td>0.117499</td>\n",
       "      <td>0.136913</td>\n",
       "      <td>0.145188</td>\n",
       "    </tr>\n",
       "    <tr>\n",
       "      <th>min</th>\n",
       "      <td>0.000000</td>\n",
       "      <td>0.000000</td>\n",
       "      <td>0.000000</td>\n",
       "      <td>0.000000</td>\n",
       "      <td>0.000000</td>\n",
       "      <td>0.000000</td>\n",
       "      <td>0.032231</td>\n",
       "      <td>0.259259</td>\n",
       "    </tr>\n",
       "    <tr>\n",
       "      <th>25%</th>\n",
       "      <td>0.058824</td>\n",
       "      <td>0.497487</td>\n",
       "      <td>0.508197</td>\n",
       "      <td>0.000000</td>\n",
       "      <td>0.000000</td>\n",
       "      <td>0.406855</td>\n",
       "      <td>0.100723</td>\n",
       "      <td>0.296296</td>\n",
       "    </tr>\n",
       "    <tr>\n",
       "      <th>50%</th>\n",
       "      <td>0.176471</td>\n",
       "      <td>0.587940</td>\n",
       "      <td>0.590164</td>\n",
       "      <td>0.232323</td>\n",
       "      <td>0.036052</td>\n",
       "      <td>0.476900</td>\n",
       "      <td>0.153926</td>\n",
       "      <td>0.358025</td>\n",
       "    </tr>\n",
       "    <tr>\n",
       "      <th>75%</th>\n",
       "      <td>0.352941</td>\n",
       "      <td>0.704774</td>\n",
       "      <td>0.655738</td>\n",
       "      <td>0.323232</td>\n",
       "      <td>0.150414</td>\n",
       "      <td>0.545455</td>\n",
       "      <td>0.258781</td>\n",
       "      <td>0.506173</td>\n",
       "    </tr>\n",
       "    <tr>\n",
       "      <th>max</th>\n",
       "      <td>1.000000</td>\n",
       "      <td>1.000000</td>\n",
       "      <td>1.000000</td>\n",
       "      <td>1.000000</td>\n",
       "      <td>1.000000</td>\n",
       "      <td>1.000000</td>\n",
       "      <td>1.000000</td>\n",
       "      <td>1.000000</td>\n",
       "    </tr>\n",
       "  </tbody>\n",
       "</table>\n",
       "</div>"
      ],
      "text/plain": [
       "       pregnant-times  glucose-concentr  blood-pressure  skin-thickness  \\\n",
       "count      768.000000        768.000000      768.000000      768.000000   \n",
       "mean         0.226180          0.607510        0.566438        0.207439   \n",
       "std          0.198210          0.160666        0.158654        0.161134   \n",
       "min          0.000000          0.000000        0.000000        0.000000   \n",
       "25%          0.058824          0.497487        0.508197        0.000000   \n",
       "50%          0.176471          0.587940        0.590164        0.232323   \n",
       "75%          0.352941          0.704774        0.655738        0.323232   \n",
       "max          1.000000          1.000000        1.000000        1.000000   \n",
       "\n",
       "          insulin  mass-index  pedigree-func         age  \n",
       "count  768.000000  768.000000     768.000000  768.000000  \n",
       "mean     0.094326    0.476790       0.194990    0.410381  \n",
       "std      0.136222    0.117499       0.136913    0.145188  \n",
       "min      0.000000    0.000000       0.032231    0.259259  \n",
       "25%      0.000000    0.406855       0.100723    0.296296  \n",
       "50%      0.036052    0.476900       0.153926    0.358025  \n",
       "75%      0.150414    0.545455       0.258781    0.506173  \n",
       "max      1.000000    1.000000       1.000000    1.000000  "
      ]
     },
     "execution_count": 29,
     "metadata": {},
     "output_type": "execute_result"
    }
   ],
   "source": [
    "target_column = ['class']\n",
    "predictors = list(set(list(df.columns))-set(target_column))\n",
    "df[predictors] = df[predictors]/df[predictors].max()\n",
    "df.describe()"
   ]
  },
  {
   "cell_type": "code",
   "execution_count": 30,
   "id": "d7abe69c",
   "metadata": {},
   "outputs": [],
   "source": [
    "df[target_column] = df[target_column].replace(['tested_positive', 'tested_negative'], ['1', '0'])"
   ]
  },
  {
   "cell_type": "code",
   "execution_count": 31,
   "id": "1cbbb11b",
   "metadata": {},
   "outputs": [
    {
     "name": "stdout",
     "output_type": "stream",
     "text": [
      "(537, 8)\n",
      "(231, 8)\n"
     ]
    }
   ],
   "source": [
    "X = df[predictors].values\n",
    "y = df[target_column].values\n",
    "\n",
    "X_train, X_test, y_train, y_test = train_test_split(X, y, test_size=0.30, random_state=40)\n",
    "print(X_train.shape); print(X_test.shape)"
   ]
  },
  {
   "cell_type": "code",
   "execution_count": 32,
   "id": "8f3756bc",
   "metadata": {},
   "outputs": [
    {
     "name": "stdout",
     "output_type": "stream",
     "text": [
      "2\n"
     ]
    }
   ],
   "source": [
    "y_train = to_categorical(y_train)\n",
    "y_test = to_categorical(y_test)\n",
    "\n",
    "count_classes = y_test.shape[1]\n",
    "print(count_classes)"
   ]
  },
  {
   "cell_type": "code",
   "execution_count": 33,
   "id": "b9c128e5",
   "metadata": {},
   "outputs": [],
   "source": [
    "model = Sequential()\n",
    "# ‘relu’ - the rectified linear unit function, returns f(x) = max(0, x)\n",
    "model.add(Dense(500, activation='relu', input_dim = 8))\n",
    "model.add(Dense(100, activation='relu', input_dim = 6))\n",
    "model.add(Dense(50, activation='relu', input_dim = 3))\n",
    "model.add(Dense(2, activation='softmax'))\n",
    "\n",
    "# Compile the model\n",
    "model.compile(optimizer='adam', # ‘adam’ - stochastic gradient-based optimizer\n",
    "              loss='categorical_crossentropy', \n",
    "              metrics=['accuracy'])"
   ]
  },
  {
   "cell_type": "code",
   "execution_count": 34,
   "id": "695faa63",
   "metadata": {},
   "outputs": [
    {
     "name": "stdout",
     "output_type": "stream",
     "text": [
      "Epoch 1/20\n",
      "17/17 [==============================] - 1s 5ms/step - loss: 0.6591 - accuracy: 0.6667\n",
      "Epoch 2/20\n",
      "17/17 [==============================] - 0s 8ms/step - loss: 0.6284 - accuracy: 0.6667\n",
      "Epoch 3/20\n",
      "17/17 [==============================] - 0s 8ms/step - loss: 0.6059 - accuracy: 0.6834\n",
      "Epoch 4/20\n",
      "17/17 [==============================] - 0s 6ms/step - loss: 0.5852 - accuracy: 0.6983\n",
      "Epoch 5/20\n",
      "17/17 [==============================] - 0s 5ms/step - loss: 0.5559 - accuracy: 0.7207\n",
      "Epoch 6/20\n",
      "17/17 [==============================] - 0s 7ms/step - loss: 0.5365 - accuracy: 0.7449\n",
      "Epoch 7/20\n",
      "17/17 [==============================] - 0s 6ms/step - loss: 0.5041 - accuracy: 0.7561\n",
      "Epoch 8/20\n",
      "17/17 [==============================] - 0s 6ms/step - loss: 0.5007 - accuracy: 0.7747\n",
      "Epoch 9/20\n",
      "17/17 [==============================] - 0s 4ms/step - loss: 0.5179 - accuracy: 0.7486\n",
      "Epoch 10/20\n",
      "17/17 [==============================] - 0s 5ms/step - loss: 0.5221 - accuracy: 0.7337\n",
      "Epoch 11/20\n",
      "17/17 [==============================] - 0s 6ms/step - loss: 0.4803 - accuracy: 0.7784\n",
      "Epoch 12/20\n",
      "17/17 [==============================] - 0s 6ms/step - loss: 0.4685 - accuracy: 0.7914\n",
      "Epoch 13/20\n",
      "17/17 [==============================] - 0s 6ms/step - loss: 0.4735 - accuracy: 0.7523\n",
      "Epoch 14/20\n",
      "17/17 [==============================] - 0s 10ms/step - loss: 0.4650 - accuracy: 0.7952\n",
      "Epoch 15/20\n",
      "17/17 [==============================] - 0s 13ms/step - loss: 0.4494 - accuracy: 0.7952\n",
      "Epoch 16/20\n",
      "17/17 [==============================] - 0s 9ms/step - loss: 0.4534 - accuracy: 0.7821\n",
      "Epoch 17/20\n",
      "17/17 [==============================] - 0s 10ms/step - loss: 0.4554 - accuracy: 0.7635\n",
      "Epoch 18/20\n",
      "17/17 [==============================] - 0s 9ms/step - loss: 0.4437 - accuracy: 0.7728\n",
      "Epoch 19/20\n",
      "17/17 [==============================] - 0s 6ms/step - loss: 0.4446 - accuracy: 0.7896\n",
      "Epoch 20/20\n",
      "17/17 [==============================] - 0s 6ms/step - loss: 0.4362 - accuracy: 0.7933\n"
     ]
    },
    {
     "data": {
      "text/plain": [
       "<keras.callbacks.History at 0x16e5276eda0>"
      ]
     },
     "execution_count": 34,
     "metadata": {},
     "output_type": "execute_result"
    }
   ],
   "source": [
    "# build the model\n",
    "model.fit(X_train, y_train, epochs=20)"
   ]
  },
  {
   "cell_type": "code",
   "execution_count": 35,
   "id": "575db159",
   "metadata": {},
   "outputs": [
    {
     "name": "stdout",
     "output_type": "stream",
     "text": [
      "17/17 [==============================] - 0s 2ms/step\n",
      "Accuracy on training data: 0.8044692873954773% \n",
      " Error on training data: 0.1955307126045227\n",
      "8/8 [==============================] - 0s 3ms/step\n",
      "Accuracy on test data: 0.7575757503509521% \n",
      " Error on test data: 0.24242424964904785\n"
     ]
    }
   ],
   "source": [
    "pred_train = model.predict(X_train)\n",
    "scores = model.evaluate(X_train, y_train, verbose=0)\n",
    "print('Accuracy on training data: {}% \\n Error on training data: {}'.format(scores[1], 1 - scores[1]))\n",
    "\n",
    "pred_test= model.predict(X_test)\n",
    "scores2 = model.evaluate(X_test, y_test, verbose=0)\n",
    "print('Accuracy on test data: {}% \\n Error on test data: {}'.format(scores2[1], 1 - scores2[1]))"
   ]
  },
  {
   "cell_type": "code",
   "execution_count": 36,
   "id": "a8179aa9",
   "metadata": {},
   "outputs": [
    {
     "name": "stdout",
     "output_type": "stream",
     "text": [
      "[[123  19]\n",
      " [ 37  52]]\n"
     ]
    }
   ],
   "source": [
    "y_prediction = np.argmax(pred_test, axis = 1)\n",
    "y_test1 = np.argmax(y_test, axis = 1)\n",
    "print(confusion_matrix(y_test1, y_prediction))"
   ]
  },
  {
   "cell_type": "markdown",
   "id": "9eba486e",
   "metadata": {},
   "source": [
    "### b)"
   ]
  },
  {
   "cell_type": "code",
   "execution_count": 37,
   "id": "2afef0c9",
   "metadata": {},
   "outputs": [
    {
     "name": "stdout",
     "output_type": "stream",
     "text": [
      "Epoch 1/20\n",
      "14/14 [==============================] - 0s 13ms/step - loss: 0.4395 - accuracy: 0.7949 - val_loss: 0.3809 - val_accuracy: 0.8333\n",
      "Epoch 2/20\n",
      "14/14 [==============================] - 0s 10ms/step - loss: 0.4549 - accuracy: 0.7855 - val_loss: 0.4212 - val_accuracy: 0.7778\n",
      "Epoch 3/20\n",
      "14/14 [==============================] - 0s 10ms/step - loss: 0.4626 - accuracy: 0.7762 - val_loss: 0.4710 - val_accuracy: 0.7778\n",
      "Epoch 4/20\n",
      "14/14 [==============================] - 0s 11ms/step - loss: 0.4633 - accuracy: 0.7552 - val_loss: 0.4590 - val_accuracy: 0.7778\n",
      "Epoch 5/20\n",
      "14/14 [==============================] - 0s 12ms/step - loss: 0.4390 - accuracy: 0.7972 - val_loss: 0.3992 - val_accuracy: 0.7963\n",
      "Epoch 6/20\n",
      "14/14 [==============================] - 0s 12ms/step - loss: 0.4311 - accuracy: 0.8065 - val_loss: 0.4162 - val_accuracy: 0.7778\n",
      "Epoch 7/20\n",
      "14/14 [==============================] - 0s 11ms/step - loss: 0.4465 - accuracy: 0.7949 - val_loss: 0.4354 - val_accuracy: 0.7778\n",
      "Epoch 8/20\n",
      "14/14 [==============================] - 0s 17ms/step - loss: 0.4444 - accuracy: 0.7855 - val_loss: 0.4041 - val_accuracy: 0.7963\n",
      "Epoch 9/20\n",
      "14/14 [==============================] - 0s 12ms/step - loss: 0.4225 - accuracy: 0.8019 - val_loss: 0.4009 - val_accuracy: 0.7778\n",
      "Epoch 10/20\n",
      "14/14 [==============================] - 0s 12ms/step - loss: 0.4127 - accuracy: 0.8159 - val_loss: 0.3996 - val_accuracy: 0.7963\n",
      "Epoch 11/20\n",
      "14/14 [==============================] - 0s 18ms/step - loss: 0.4183 - accuracy: 0.8089 - val_loss: 0.3967 - val_accuracy: 0.7870\n",
      "Epoch 12/20\n",
      "14/14 [==============================] - 0s 15ms/step - loss: 0.4134 - accuracy: 0.8112 - val_loss: 0.3945 - val_accuracy: 0.7963\n",
      "Epoch 13/20\n",
      "14/14 [==============================] - 0s 15ms/step - loss: 0.4094 - accuracy: 0.8135 - val_loss: 0.4265 - val_accuracy: 0.7963\n",
      "Epoch 14/20\n",
      "14/14 [==============================] - 0s 18ms/step - loss: 0.4079 - accuracy: 0.8042 - val_loss: 0.4015 - val_accuracy: 0.7870\n",
      "Epoch 15/20\n",
      "14/14 [==============================] - 0s 23ms/step - loss: 0.3981 - accuracy: 0.8205 - val_loss: 0.4148 - val_accuracy: 0.7778\n",
      "Epoch 16/20\n",
      "14/14 [==============================] - 0s 16ms/step - loss: 0.4155 - accuracy: 0.8065 - val_loss: 0.4098 - val_accuracy: 0.8056\n",
      "Epoch 17/20\n",
      "14/14 [==============================] - 0s 18ms/step - loss: 0.4112 - accuracy: 0.8112 - val_loss: 0.4075 - val_accuracy: 0.7870\n",
      "Epoch 18/20\n",
      "14/14 [==============================] - 0s 12ms/step - loss: 0.3918 - accuracy: 0.8228 - val_loss: 0.4123 - val_accuracy: 0.7870\n",
      "Epoch 19/20\n",
      "14/14 [==============================] - 0s 12ms/step - loss: 0.3965 - accuracy: 0.8182 - val_loss: 0.4085 - val_accuracy: 0.7870\n",
      "Epoch 20/20\n",
      "14/14 [==============================] - 0s 11ms/step - loss: 0.4029 - accuracy: 0.8159 - val_loss: 0.4204 - val_accuracy: 0.7778\n"
     ]
    }
   ],
   "source": [
    "history = model.fit(X_train, y_train, epochs=20, validation_split=0.2, shuffle=True)"
   ]
  },
  {
   "cell_type": "code",
   "execution_count": 38,
   "id": "1954326b",
   "metadata": {},
   "outputs": [
    {
     "data": {
      "image/png": "[encoded data removed]",
      "text/plain": [
       "<Figure size 640x480 with 1 Axes>"
      ]
     },
     "metadata": {},
     "output_type": "display_data"
    }
   ],
   "source": [
    "from matplotlib import pyplot as plt\n",
    "\n",
    "plt.plot(history.history['loss'])\n",
    "plt.plot(history.history['val_loss'])\n",
    "plt.title('Model loss')\n",
    "plt.ylabel('Loss')\n",
    "plt.xlabel('Epoch')\n",
    "plt.legend(['Train', 'Validation'], loc='upper left')\n",
    "plt.show()"
   ]
  },
  {
   "cell_type": "markdown",
   "id": "44d62a60",
   "metadata": {},
   "source": [
    "### c)"
   ]
  },
  {
   "cell_type": "code",
   "execution_count": 39,
   "id": "704e9fe1",
   "metadata": {},
   "outputs": [],
   "source": [
    "# model jest przeuczony, sieć zbyt dokładnie nauczyła się zbioru treningowego,\n",
    "# więc popełnia więcej błędów na zbiorze walidacyjnym\n",
    "# (wykres straty zbioru walidacyjnego jest nad krzywą straty zbioru treningowego)\n",
    "# trenowanie powinno się przerwać w pewnym momencie"
   ]
  },
  {
   "cell_type": "markdown",
   "id": "8beba564",
   "metadata": {},
   "source": [
    "### d)"
   ]
  },
  {
   "cell_type": "code",
   "execution_count": 40,
   "id": "d1feeac0",
   "metadata": {},
   "outputs": [],
   "source": [
    "# optimizer = {‘RMSprop’, ‘sgd’, ‘nadam’ ‘adam’}\n",
    "# adam wydaje się być najlepszy, nadam ma zbliżone wyniki"
   ]
  },
  {
   "cell_type": "code",
   "execution_count": 41,
   "id": "3ec33fb6",
   "metadata": {},
   "outputs": [
    {
     "name": "stdout",
     "output_type": "stream",
     "text": [
      "Epoch 1/20\n",
      "17/17 [==============================] - 1s 6ms/step - loss: 0.6558 - accuracy: 0.6667\n",
      "Epoch 2/20\n",
      "17/17 [==============================] - 0s 8ms/step - loss: 0.6333 - accuracy: 0.6667\n",
      "Epoch 3/20\n",
      "17/17 [==============================] - 0s 7ms/step - loss: 0.6035 - accuracy: 0.6890\n",
      "Epoch 4/20\n",
      "17/17 [==============================] - 0s 10ms/step - loss: 0.5865 - accuracy: 0.7039\n",
      "Epoch 5/20\n",
      "17/17 [==============================] - 0s 12ms/step - loss: 0.5662 - accuracy: 0.7225\n",
      "Epoch 6/20\n",
      "17/17 [==============================] - 0s 12ms/step - loss: 0.5550 - accuracy: 0.7188\n",
      "Epoch 7/20\n",
      "17/17 [==============================] - 0s 12ms/step - loss: 0.5415 - accuracy: 0.7393\n",
      "Epoch 8/20\n",
      "17/17 [==============================] - 0s 11ms/step - loss: 0.5293 - accuracy: 0.7356\n",
      "Epoch 9/20\n",
      "17/17 [==============================] - 0s 9ms/step - loss: 0.5077 - accuracy: 0.7635\n",
      "Epoch 10/20\n",
      "17/17 [==============================] - 0s 7ms/step - loss: 0.5240 - accuracy: 0.7430\n",
      "Epoch 11/20\n",
      "17/17 [==============================] - 0s 7ms/step - loss: 0.5020 - accuracy: 0.7728\n",
      "Epoch 12/20\n",
      "17/17 [==============================] - 0s 9ms/step - loss: 0.5023 - accuracy: 0.7486\n",
      "Epoch 13/20\n",
      "17/17 [==============================] - 0s 9ms/step - loss: 0.4820 - accuracy: 0.7877\n",
      "Epoch 14/20\n",
      "17/17 [==============================] - 0s 8ms/step - loss: 0.5033 - accuracy: 0.7691\n",
      "Epoch 15/20\n",
      "17/17 [==============================] - 0s 9ms/step - loss: 0.4811 - accuracy: 0.7821\n",
      "Epoch 16/20\n",
      "17/17 [==============================] - 0s 12ms/step - loss: 0.4832 - accuracy: 0.7803\n",
      "Epoch 17/20\n",
      "17/17 [==============================] - 0s 13ms/step - loss: 0.4763 - accuracy: 0.7784\n",
      "Epoch 18/20\n",
      "17/17 [==============================] - 0s 10ms/step - loss: 0.4769 - accuracy: 0.7765\n",
      "Epoch 19/20\n",
      "17/17 [==============================] - 0s 8ms/step - loss: 0.4750 - accuracy: 0.7840\n",
      "Epoch 20/20\n",
      "17/17 [==============================] - 0s 7ms/step - loss: 0.4730 - accuracy: 0.7616\n",
      "17/17 [==============================] - 0s 5ms/step\n",
      "Accuracy on training data: 0.7914338707923889% \n",
      " Error on training data: 0.20856612920761108\n",
      "8/8 [==============================] - 0s 3ms/step\n",
      "Accuracy on test data: 0.7575757503509521% \n",
      " Error on test data: 0.24242424964904785\n",
      "[[125  17]\n",
      " [ 39  50]]\n"
     ]
    }
   ],
   "source": [
    "model = Sequential()\n",
    "model.add(Dense(500, activation='relu', input_dim = 8))\n",
    "model.add(Dense(100, activation='relu', input_dim = 6))\n",
    "model.add(Dense(50, activation='relu', input_dim = 3))\n",
    "model.add(Dense(2, activation='softmax'))\n",
    "\n",
    "# Compile the model\n",
    "model.compile(optimizer='RMSprop', # implements the RMSprop algorithm\n",
    "              loss='categorical_crossentropy', \n",
    "              metrics=['accuracy'])\n",
    "\n",
    "# build the model\n",
    "model.fit(X_train, y_train, epochs=20)\n",
    "\n",
    "pred_train = model.predict(X_train)\n",
    "scores = model.evaluate(X_train, y_train, verbose=0)\n",
    "print('Accuracy on training data: {}% \\n Error on training data: {}'.format(scores[1], 1 - scores[1]))\n",
    "\n",
    "pred_test= model.predict(X_test)\n",
    "scores2 = model.evaluate(X_test, y_test, verbose=0)\n",
    "print('Accuracy on test data: {}% \\n Error on test data: {}'.format(scores2[1], 1 - scores2[1]))\n",
    "\n",
    "y_prediction = np.argmax(pred_test, axis = 1)\n",
    "y_test1 = np.argmax(y_test, axis = 1)\n",
    "print(confusion_matrix(y_test1, y_prediction))"
   ]
  },
  {
   "cell_type": "code",
   "execution_count": 42,
   "id": "5fc79f11",
   "metadata": {},
   "outputs": [
    {
     "name": "stdout",
     "output_type": "stream",
     "text": [
      "Epoch 1/20\n",
      "17/17 [==============================] - 1s 3ms/step - loss: 0.6821 - accuracy: 0.6331\n",
      "Epoch 2/20\n",
      "17/17 [==============================] - 0s 5ms/step - loss: 0.6636 - accuracy: 0.6667\n",
      "Epoch 3/20\n",
      "17/17 [==============================] - 0s 5ms/step - loss: 0.6535 - accuracy: 0.6667\n",
      "Epoch 4/20\n",
      "17/17 [==============================] - 0s 4ms/step - loss: 0.6478 - accuracy: 0.6667\n",
      "Epoch 5/20\n",
      "17/17 [==============================] - 0s 5ms/step - loss: 0.6443 - accuracy: 0.6667\n",
      "Epoch 6/20\n",
      "17/17 [==============================] - 0s 4ms/step - loss: 0.6420 - accuracy: 0.6667\n",
      "Epoch 7/20\n",
      "17/17 [==============================] - 0s 5ms/step - loss: 0.6403 - accuracy: 0.6667\n",
      "Epoch 8/20\n",
      "17/17 [==============================] - 0s 6ms/step - loss: 0.6391 - accuracy: 0.6667\n",
      "Epoch 9/20\n",
      "17/17 [==============================] - 0s 7ms/step - loss: 0.6379 - accuracy: 0.6667\n",
      "Epoch 10/20\n",
      "17/17 [==============================] - 0s 7ms/step - loss: 0.6365 - accuracy: 0.6667\n",
      "Epoch 11/20\n",
      "17/17 [==============================] - 0s 6ms/step - loss: 0.6353 - accuracy: 0.6667\n",
      "Epoch 12/20\n",
      "17/17 [==============================] - 0s 7ms/step - loss: 0.6343 - accuracy: 0.6667\n",
      "Epoch 13/20\n",
      "17/17 [==============================] - 0s 5ms/step - loss: 0.6330 - accuracy: 0.6667\n",
      "Epoch 14/20\n",
      "17/17 [==============================] - 0s 6ms/step - loss: 0.6320 - accuracy: 0.6667\n",
      "Epoch 15/20\n",
      "17/17 [==============================] - 0s 6ms/step - loss: 0.6313 - accuracy: 0.6667\n",
      "Epoch 16/20\n",
      "17/17 [==============================] - 0s 6ms/step - loss: 0.6301 - accuracy: 0.6667\n",
      "Epoch 17/20\n",
      "17/17 [==============================] - 0s 10ms/step - loss: 0.6288 - accuracy: 0.6667\n",
      "Epoch 18/20\n",
      "17/17 [==============================] - 0s 10ms/step - loss: 0.6278 - accuracy: 0.6667\n",
      "Epoch 19/20\n",
      "17/17 [==============================] - 0s 9ms/step - loss: 0.6269 - accuracy: 0.6667\n",
      "Epoch 20/20\n",
      "17/17 [==============================] - 0s 9ms/step - loss: 0.6257 - accuracy: 0.6667\n",
      "17/17 [==============================] - 0s 2ms/step\n",
      "Accuracy on training data: 0.6666666865348816% \n",
      " Error on training data: 0.3333333134651184\n",
      "8/8 [==============================] - 0s 4ms/step\n",
      "Accuracy on test data: 0.6147186160087585% \n",
      " Error on test data: 0.38528138399124146\n",
      "[[142   0]\n",
      " [ 89   0]]\n"
     ]
    }
   ],
   "source": [
    "model = Sequential()\n",
    "model.add(Dense(500, activation='relu', input_dim = 8))\n",
    "model.add(Dense(100, activation='relu', input_dim = 6))\n",
    "model.add(Dense(50, activation='relu', input_dim = 3))\n",
    "model.add(Dense(2, activation='softmax'))\n",
    "\n",
    "# Compile the model\n",
    "model.compile(optimizer='sgd', # Gradient descent (with momentum)\n",
    "              loss='categorical_crossentropy', \n",
    "              metrics=['accuracy'])\n",
    "\n",
    "# build the model\n",
    "model.fit(X_train, y_train, epochs=20)\n",
    "\n",
    "pred_train = model.predict(X_train)\n",
    "scores = model.evaluate(X_train, y_train, verbose=0)\n",
    "print('Accuracy on training data: {}% \\n Error on training data: {}'.format(scores[1], 1 - scores[1]))\n",
    "\n",
    "pred_test= model.predict(X_test)\n",
    "scores2 = model.evaluate(X_test, y_test, verbose=0)\n",
    "print('Accuracy on test data: {}% \\n Error on test data: {}'.format(scores2[1], 1 - scores2[1]))\n",
    "\n",
    "y_prediction = np.argmax(pred_test, axis = 1)\n",
    "y_test1 = np.argmax(y_test, axis = 1)\n",
    "print(confusion_matrix(y_test1, y_prediction))"
   ]
  },
  {
   "cell_type": "code",
   "execution_count": 43,
   "id": "38bc21d6",
   "metadata": {},
   "outputs": [
    {
     "name": "stdout",
     "output_type": "stream",
     "text": [
      "Epoch 1/20\n",
      "17/17 [==============================] - 3s 4ms/step - loss: 0.6614 - accuracy: 0.6518\n",
      "Epoch 2/20\n",
      "17/17 [==============================] - 0s 12ms/step - loss: 0.6329 - accuracy: 0.6704\n",
      "Epoch 3/20\n",
      "17/17 [==============================] - 0s 14ms/step - loss: 0.6062 - accuracy: 0.6816\n",
      "Epoch 4/20\n",
      "17/17 [==============================] - 0s 12ms/step - loss: 0.5732 - accuracy: 0.7095\n",
      "Epoch 5/20\n",
      "17/17 [==============================] - 0s 6ms/step - loss: 0.5492 - accuracy: 0.7058\n",
      "Epoch 6/20\n",
      "17/17 [==============================] - 0s 7ms/step - loss: 0.5168 - accuracy: 0.7486\n",
      "Epoch 7/20\n",
      "17/17 [==============================] - 0s 8ms/step - loss: 0.4899 - accuracy: 0.7598\n",
      "Epoch 8/20\n",
      "17/17 [==============================] - 0s 5ms/step - loss: 0.4914 - accuracy: 0.7784\n",
      "Epoch 9/20\n",
      "17/17 [==============================] - 0s 5ms/step - loss: 0.4695 - accuracy: 0.7784\n",
      "Epoch 10/20\n",
      "17/17 [==============================] - 0s 6ms/step - loss: 0.4616 - accuracy: 0.7896\n",
      "Epoch 11/20\n",
      "17/17 [==============================] - 0s 7ms/step - loss: 0.4616 - accuracy: 0.7877\n",
      "Epoch 12/20\n",
      "17/17 [==============================] - 0s 7ms/step - loss: 0.4575 - accuracy: 0.7914\n",
      "Epoch 13/20\n",
      "17/17 [==============================] - 0s 8ms/step - loss: 0.4537 - accuracy: 0.7989\n",
      "Epoch 14/20\n",
      "17/17 [==============================] - 0s 8ms/step - loss: 0.4477 - accuracy: 0.7803\n",
      "Epoch 15/20\n",
      "17/17 [==============================] - 0s 11ms/step - loss: 0.4466 - accuracy: 0.7858\n",
      "Epoch 16/20\n",
      "17/17 [==============================] - 0s 9ms/step - loss: 0.4393 - accuracy: 0.8026\n",
      "Epoch 17/20\n",
      "17/17 [==============================] - 0s 9ms/step - loss: 0.4416 - accuracy: 0.7989\n",
      "Epoch 18/20\n",
      "17/17 [==============================] - 0s 8ms/step - loss: 0.4351 - accuracy: 0.7877\n",
      "Epoch 19/20\n",
      "17/17 [==============================] - 0s 8ms/step - loss: 0.4403 - accuracy: 0.7970\n",
      "Epoch 20/20\n",
      "17/17 [==============================] - 0s 8ms/step - loss: 0.4345 - accuracy: 0.7989\n",
      "17/17 [==============================] - 0s 3ms/step\n",
      "Accuracy on training data: 0.7877094745635986% \n",
      " Error on training data: 0.21229052543640137\n",
      "8/8 [==============================] - 0s 2ms/step\n",
      "Accuracy on test data: 0.7402597665786743% \n",
      " Error on test data: 0.2597402334213257\n",
      "[[106  36]\n",
      " [ 24  65]]\n"
     ]
    }
   ],
   "source": [
    "model = Sequential()\n",
    "model.add(Dense(500, activation='relu', input_dim = 8))\n",
    "model.add(Dense(100, activation='relu', input_dim = 6))\n",
    "model.add(Dense(50, activation='relu', input_dim = 3))\n",
    "model.add(Dense(2, activation='softmax'))\n",
    "\n",
    "# Compile the model\n",
    "model.compile(optimizer='nadam', # Adam with Nesterov momentum\n",
    "              loss='categorical_crossentropy', \n",
    "              metrics=['accuracy'])\n",
    "\n",
    "# build the model\n",
    "model.fit(X_train, y_train, epochs=20)\n",
    "\n",
    "pred_train = model.predict(X_train)\n",
    "scores = model.evaluate(X_train, y_train, verbose=0)\n",
    "print('Accuracy on training data: {}% \\n Error on training data: {}'.format(scores[1], 1 - scores[1]))\n",
    "\n",
    "pred_test= model.predict(X_test)\n",
    "scores2 = model.evaluate(X_test, y_test, verbose=0)\n",
    "print('Accuracy on test data: {}% \\n Error on test data: {}'.format(scores2[1], 1 - scores2[1]))\n",
    "\n",
    "y_prediction = np.argmax(pred_test, axis = 1)\n",
    "y_test1 = np.argmax(y_test, axis = 1)\n",
    "print(confusion_matrix(y_test1, y_prediction))"
   ]
  },
  {
   "cell_type": "code",
   "execution_count": 44,
   "id": "a71be2bb",
   "metadata": {},
   "outputs": [],
   "source": [
    "# activation = {‘sigmoid’, ‘tanh’, ‘relu’}\n",
    "# relu ma najlepsze wyniki, później tanh, na końcu sigmoid"
   ]
  },
  {
   "cell_type": "code",
   "execution_count": 45,
   "id": "62bacfc3",
   "metadata": {},
   "outputs": [
    {
     "name": "stdout",
     "output_type": "stream",
     "text": [
      "Epoch 1/20\n",
      "17/17 [==============================] - 1s 4ms/step - loss: 0.6780 - accuracy: 0.5922\n",
      "Epoch 2/20\n",
      "17/17 [==============================] - 0s 6ms/step - loss: 0.6383 - accuracy: 0.6667\n",
      "Epoch 3/20\n",
      "17/17 [==============================] - 0s 6ms/step - loss: 0.6375 - accuracy: 0.6667\n",
      "Epoch 4/20\n",
      "17/17 [==============================] - 0s 6ms/step - loss: 0.6371 - accuracy: 0.6667\n",
      "Epoch 5/20\n",
      "17/17 [==============================] - 0s 11ms/step - loss: 0.6415 - accuracy: 0.6667\n",
      "Epoch 6/20\n",
      "17/17 [==============================] - 0s 16ms/step - loss: 0.6438 - accuracy: 0.6667\n",
      "Epoch 7/20\n",
      "17/17 [==============================] - 0s 10ms/step - loss: 0.6368 - accuracy: 0.6667\n",
      "Epoch 8/20\n",
      "17/17 [==============================] - 0s 8ms/step - loss: 0.6352 - accuracy: 0.6667\n",
      "Epoch 9/20\n",
      "17/17 [==============================] - 0s 6ms/step - loss: 0.6410 - accuracy: 0.6667\n",
      "Epoch 10/20\n",
      "17/17 [==============================] - 0s 7ms/step - loss: 0.6383 - accuracy: 0.6667\n",
      "Epoch 11/20\n",
      "17/17 [==============================] - 0s 7ms/step - loss: 0.6384 - accuracy: 0.6667\n",
      "Epoch 12/20\n",
      "17/17 [==============================] - 0s 6ms/step - loss: 0.6350 - accuracy: 0.6667\n",
      "Epoch 13/20\n",
      "17/17 [==============================] - 0s 6ms/step - loss: 0.6345 - accuracy: 0.6667\n",
      "Epoch 14/20\n",
      "17/17 [==============================] - 0s 6ms/step - loss: 0.6380 - accuracy: 0.6667\n",
      "Epoch 15/20\n",
      "17/17 [==============================] - 0s 8ms/step - loss: 0.6312 - accuracy: 0.6667\n",
      "Epoch 16/20\n",
      "17/17 [==============================] - 0s 8ms/step - loss: 0.6279 - accuracy: 0.6667\n",
      "Epoch 17/20\n",
      "17/17 [==============================] - 0s 6ms/step - loss: 0.6314 - accuracy: 0.6667\n",
      "Epoch 18/20\n",
      "17/17 [==============================] - 0s 9ms/step - loss: 0.6294 - accuracy: 0.6667\n",
      "Epoch 19/20\n",
      "17/17 [==============================] - 0s 8ms/step - loss: 0.6194 - accuracy: 0.6667\n",
      "Epoch 20/20\n",
      "17/17 [==============================] - 0s 10ms/step - loss: 0.6209 - accuracy: 0.6760\n",
      "17/17 [==============================] - 0s 5ms/step\n",
      "Accuracy on training data: 0.6666666865348816% \n",
      " Error on training data: 0.3333333134651184\n",
      "8/8 [==============================] - 0s 4ms/step\n",
      "Accuracy on test data: 0.6147186160087585% \n",
      " Error on test data: 0.38528138399124146\n",
      "[[142   0]\n",
      " [ 89   0]]\n"
     ]
    }
   ],
   "source": [
    "model = Sequential()\n",
    "# ‘sigmoid’ - the logistic sigmoid function, returns f(x) = 1 / (1 + exp(-x))\n",
    "model.add(Dense(500, activation='sigmoid', input_dim = 8))\n",
    "model.add(Dense(100, activation='sigmoid', input_dim = 6))\n",
    "model.add(Dense(50, activation='sigmoid', input_dim = 3))\n",
    "model.add(Dense(2, activation='softmax'))\n",
    "\n",
    "# Compile the model\n",
    "model.compile(optimizer='adam',\n",
    "              loss='categorical_crossentropy', \n",
    "              metrics=['accuracy'])\n",
    "\n",
    "# build the model\n",
    "model.fit(X_train, y_train, epochs=20)\n",
    "\n",
    "pred_train = model.predict(X_train)\n",
    "scores = model.evaluate(X_train, y_train, verbose=0)\n",
    "print('Accuracy on training data: {}% \\n Error on training data: {}'.format(scores[1], 1 - scores[1]))\n",
    "\n",
    "pred_test= model.predict(X_test)\n",
    "scores2 = model.evaluate(X_test, y_test, verbose=0)\n",
    "print('Accuracy on test data: {}% \\n Error on test data: {}'.format(scores2[1], 1 - scores2[1]))\n",
    "\n",
    "y_prediction = np.argmax(pred_test, axis = 1)\n",
    "y_test1 = np.argmax(y_test, axis = 1)\n",
    "print(confusion_matrix(y_test1, y_prediction))"
   ]
  },
  {
   "cell_type": "code",
   "execution_count": 46,
   "id": "f2842ad2",
   "metadata": {},
   "outputs": [
    {
     "name": "stdout",
     "output_type": "stream",
     "text": [
      "Epoch 1/20\n",
      "17/17 [==============================] - 1s 5ms/step - loss: 0.6455 - accuracy: 0.6480\n",
      "Epoch 2/20\n",
      "17/17 [==============================] - 0s 8ms/step - loss: 0.5882 - accuracy: 0.6983\n",
      "Epoch 3/20\n",
      "17/17 [==============================] - 0s 8ms/step - loss: 0.5619 - accuracy: 0.7244\n",
      "Epoch 4/20\n",
      "17/17 [==============================] - 0s 6ms/step - loss: 0.5448 - accuracy: 0.7672\n",
      "Epoch 5/20\n",
      "17/17 [==============================] - 0s 5ms/step - loss: 0.5132 - accuracy: 0.7505\n",
      "Epoch 6/20\n",
      "17/17 [==============================] - 0s 5ms/step - loss: 0.5219 - accuracy: 0.7486\n",
      "Epoch 7/20\n",
      "17/17 [==============================] - 0s 6ms/step - loss: 0.5085 - accuracy: 0.7523\n",
      "Epoch 8/20\n",
      "17/17 [==============================] - 0s 5ms/step - loss: 0.4999 - accuracy: 0.7616\n",
      "Epoch 9/20\n",
      "17/17 [==============================] - 0s 6ms/step - loss: 0.4842 - accuracy: 0.7728\n",
      "Epoch 10/20\n",
      "17/17 [==============================] - 0s 6ms/step - loss: 0.4752 - accuracy: 0.7765\n",
      "Epoch 11/20\n",
      "17/17 [==============================] - 0s 13ms/step - loss: 0.5022 - accuracy: 0.7579\n",
      "Epoch 12/20\n",
      "17/17 [==============================] - 0s 6ms/step - loss: 0.4878 - accuracy: 0.7598\n",
      "Epoch 13/20\n",
      "17/17 [==============================] - 0s 7ms/step - loss: 0.4742 - accuracy: 0.7877\n",
      "Epoch 14/20\n",
      "17/17 [==============================] - 0s 6ms/step - loss: 0.4837 - accuracy: 0.7654\n",
      "Epoch 15/20\n",
      "17/17 [==============================] - 0s 6ms/step - loss: 0.4830 - accuracy: 0.7691\n",
      "Epoch 16/20\n",
      "17/17 [==============================] - 0s 6ms/step - loss: 0.4959 - accuracy: 0.7542\n",
      "Epoch 17/20\n",
      "17/17 [==============================] - 0s 5ms/step - loss: 0.4870 - accuracy: 0.7635\n",
      "Epoch 18/20\n",
      "17/17 [==============================] - 0s 10ms/step - loss: 0.4739 - accuracy: 0.7784\n",
      "Epoch 19/20\n",
      "17/17 [==============================] - 0s 6ms/step - loss: 0.4752 - accuracy: 0.7840\n",
      "Epoch 20/20\n",
      "17/17 [==============================] - 0s 6ms/step - loss: 0.4767 - accuracy: 0.7747\n",
      "17/17 [==============================] - 0s 2ms/step\n",
      "Accuracy on training data: 0.7914338707923889% \n",
      " Error on training data: 0.20856612920761108\n",
      "8/8 [==============================] - 0s 2ms/step\n",
      "Accuracy on test data: 0.7445887327194214% \n",
      " Error on test data: 0.2554112672805786\n",
      "[[122  20]\n",
      " [ 39  50]]\n"
     ]
    }
   ],
   "source": [
    "model = Sequential()\n",
    "# ‘tanh’ - the hyperbolic tan function, returns f(x) = tanh(x)\n",
    "model.add(Dense(500, activation='tanh', input_dim = 8))\n",
    "model.add(Dense(100, activation='tanh', input_dim = 6))\n",
    "model.add(Dense(50, activation='tanh', input_dim = 3))\n",
    "model.add(Dense(2, activation='softmax'))\n",
    "\n",
    "# Compile the model\n",
    "model.compile(optimizer='adam',\n",
    "              loss='categorical_crossentropy', \n",
    "              metrics=['accuracy'])\n",
    "\n",
    "# build the model\n",
    "model.fit(X_train, y_train, epochs=20)\n",
    "\n",
    "pred_train = model.predict(X_train)\n",
    "scores = model.evaluate(X_train, y_train, verbose=0)\n",
    "print('Accuracy on training data: {}% \\n Error on training data: {}'.format(scores[1], 1 - scores[1]))\n",
    "\n",
    "pred_test= model.predict(X_test)\n",
    "scores2 = model.evaluate(X_test, y_test, verbose=0)\n",
    "print('Accuracy on test data: {}% \\n Error on test data: {}'.format(scores2[1], 1 - scores2[1]))\n",
    "\n",
    "y_prediction = np.argmax(pred_test, axis = 1)\n",
    "y_test1 = np.argmax(y_test, axis = 1)\n",
    "print(confusion_matrix(y_test1, y_prediction))"
   ]
  },
  {
   "cell_type": "markdown",
   "id": "1e0edaa8",
   "metadata": {},
   "source": [
    "### e)"
   ]
  },
  {
   "cell_type": "code",
   "execution_count": 47,
   "id": "97851525",
   "metadata": {},
   "outputs": [],
   "source": [
    "#pip install ann_visualizer\n",
    "#pip install pydot\n",
    "#pip install graphviz"
   ]
  },
  {
   "cell_type": "code",
   "execution_count": 48,
   "id": "ae089b0f",
   "metadata": {},
   "outputs": [
    {
     "name": "stdout",
     "output_type": "stream",
     "text": [
      "Model: \"sequential_6\"\n",
      "_________________________________________________________________\n",
      " Layer (type)                Output Shape              Param #   \n",
      "=================================================================\n",
      " dense_24 (Dense)            (None, 500)               4500      \n",
      "                                                                 \n",
      " dense_25 (Dense)            (None, 100)               50100     \n",
      "                                                                 \n",
      " dense_26 (Dense)            (None, 50)                5050      \n",
      "                                                                 \n",
      " dense_27 (Dense)            (None, 2)                 102       \n",
      "                                                                 \n",
      "=================================================================\n",
      "Total params: 59,752\n",
      "Trainable params: 59,752\n",
      "Non-trainable params: 0\n",
      "_________________________________________________________________\n",
      "None\n",
      "You must install pydot (`pip install pydot`) and install graphviz (see instructions at https://graphviz.gitlab.io/download/) for plot_model to work.\n"
     ]
    }
   ],
   "source": [
    "from keras.utils.vis_utils import plot_model\n",
    "\n",
    "model = Sequential()\n",
    "# ‘relu’ - the rectified linear unit function, returns f(x) = max(0, x)\n",
    "model.add(Dense(500, activation='relu', input_dim = 8))\n",
    "model.add(Dense(100, activation='relu', input_dim = 6))\n",
    "model.add(Dense(50, activation='relu', input_dim = 3))\n",
    "model.add(Dense(2, activation='softmax'))\n",
    "\n",
    "# Compile the model\n",
    "model.compile(optimizer='adam', # ‘adam’ - stochastic gradient-based optimizer\n",
    "              loss='categorical_crossentropy', \n",
    "              metrics=['accuracy'])\n",
    "print(model.summary())\n",
    "plot_model(model, to_file='model_plot.png', show_shapes=True, show_layer_names=True)"
   ]
  },
  {
   "cell_type": "code",
   "execution_count": 49,
   "id": "7af45a62",
   "metadata": {},
   "outputs": [
    {
     "name": "stdout",
     "output_type": "stream",
     "text": [
      "Epoch 1/20\n",
      "17/17 [==============================] - 1s 6ms/step - loss: 0.6605 - accuracy: 0.6480\n",
      "Epoch 2/20\n",
      "17/17 [==============================] - 0s 6ms/step - loss: 0.6279 - accuracy: 0.6667\n",
      "Epoch 3/20\n",
      "17/17 [==============================] - 0s 8ms/step - loss: 0.5986 - accuracy: 0.6797\n",
      "Epoch 4/20\n",
      "17/17 [==============================] - 0s 7ms/step - loss: 0.5760 - accuracy: 0.7225\n",
      "Epoch 5/20\n",
      "17/17 [==============================] - 0s 7ms/step - loss: 0.5404 - accuracy: 0.7300\n",
      "Epoch 6/20\n",
      "17/17 [==============================] - 0s 7ms/step - loss: 0.5222 - accuracy: 0.7598\n",
      "Epoch 7/20\n",
      "17/17 [==============================] - 0s 8ms/step - loss: 0.4934 - accuracy: 0.7672\n",
      "Epoch 8/20\n",
      "17/17 [==============================] - 0s 7ms/step - loss: 0.4827 - accuracy: 0.7672\n",
      "Epoch 9/20\n",
      "17/17 [==============================] - 0s 8ms/step - loss: 0.4880 - accuracy: 0.7877\n",
      "Epoch 10/20\n",
      "17/17 [==============================] - 0s 5ms/step - loss: 0.4655 - accuracy: 0.7803\n",
      "Epoch 11/20\n",
      "17/17 [==============================] - 0s 7ms/step - loss: 0.4720 - accuracy: 0.7784\n",
      "Epoch 12/20\n",
      "17/17 [==============================] - 0s 11ms/step - loss: 0.4636 - accuracy: 0.7784\n",
      "Epoch 13/20\n",
      "17/17 [==============================] - 0s 9ms/step - loss: 0.4875 - accuracy: 0.7709\n",
      "Epoch 14/20\n",
      "17/17 [==============================] - 0s 6ms/step - loss: 0.4729 - accuracy: 0.7858\n",
      "Epoch 15/20\n",
      "17/17 [==============================] - 0s 7ms/step - loss: 0.4516 - accuracy: 0.8026\n",
      "Epoch 16/20\n",
      "17/17 [==============================] - 0s 7ms/step - loss: 0.4438 - accuracy: 0.7989\n",
      "Epoch 17/20\n",
      "17/17 [==============================] - 0s 7ms/step - loss: 0.4442 - accuracy: 0.7896\n",
      "Epoch 18/20\n",
      "17/17 [==============================] - 0s 7ms/step - loss: 0.4379 - accuracy: 0.8007\n",
      "Epoch 19/20\n",
      "17/17 [==============================] - 0s 7ms/step - loss: 0.4426 - accuracy: 0.7933\n",
      "Epoch 20/20\n",
      "17/17 [==============================] - 0s 10ms/step - loss: 0.4654 - accuracy: 0.7840\n"
     ]
    },
    {
     "data": {
      "text/plain": [
       "<keras.callbacks.History at 0x16e55fa1000>"
      ]
     },
     "execution_count": 49,
     "metadata": {},
     "output_type": "execute_result"
    }
   ],
   "source": [
    "model.fit(X_train, y_train, epochs=20)"
   ]
  },
  {
   "cell_type": "code",
   "execution_count": 51,
   "id": "dd8ce861",
   "metadata": {
    "scrolled": true
   },
   "outputs": [],
   "source": [
    "# from ann_visualizer.visualize import ann_viz\n",
    "\n",
    "# ann_viz(model, title=\"My first neural network\")"
   ]
  },
  {
   "cell_type": "code",
   "execution_count": null,
   "id": "5d9b5f0c",
   "metadata": {},
   "outputs": [],
   "source": []
  }
 ],
 "metadata": {
  "kernelspec": {
   "display_name": "Python 3 (ipykernel)",
   "language": "python",
   "name": "python3"
  },
  "language_info": {
   "codemirror_mode": {
    "name": "ipython",
    "version": 3
   },
   "file_extension": ".py",
   "mimetype": "text/x-python",
   "name": "python",
   "nbconvert_exporter": "python",
   "pygments_lexer": "ipython3",
   "version": "3.10.0"
  }
 },
 "nbformat": 4,
 "nbformat_minor": 5
}
